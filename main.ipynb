{
  "nbformat": 4,
  "nbformat_minor": 0,
  "metadata": {
    "colab": {
      "provenance": [],
      "collapsed_sections": []
    },
    "kernelspec": {
      "name": "python3",
      "display_name": "Python 3"
    },
    "language_info": {
      "name": "python"
    },
    "widgets": {
      "application/vnd.jupyter.widget-state+json": {
        "9020639c028e4750a487531ca5e7cdff": {
          "model_module": "@jupyter-widgets/controls",
          "model_name": "HBoxModel",
          "model_module_version": "1.5.0",
          "state": {
            "_dom_classes": [],
            "_model_module": "@jupyter-widgets/controls",
            "_model_module_version": "1.5.0",
            "_model_name": "HBoxModel",
            "_view_count": null,
            "_view_module": "@jupyter-widgets/controls",
            "_view_module_version": "1.5.0",
            "_view_name": "HBoxView",
            "box_style": "",
            "children": [
              "IPY_MODEL_0cdee3a4c1f845fc8b0dddf09e128c1a",
              "IPY_MODEL_9c61510f068c4780a94c27d689687657",
              "IPY_MODEL_79570e7b3607409b864a8e4c73d0cf53"
            ],
            "layout": "IPY_MODEL_3142c26a5c304dcd8f0afb1627177ce9"
          }
        },
        "0cdee3a4c1f845fc8b0dddf09e128c1a": {
          "model_module": "@jupyter-widgets/controls",
          "model_name": "HTMLModel",
          "model_module_version": "1.5.0",
          "state": {
            "_dom_classes": [],
            "_model_module": "@jupyter-widgets/controls",
            "_model_module_version": "1.5.0",
            "_model_name": "HTMLModel",
            "_view_count": null,
            "_view_module": "@jupyter-widgets/controls",
            "_view_module_version": "1.5.0",
            "_view_name": "HTMLView",
            "description": "",
            "description_tooltip": null,
            "layout": "IPY_MODEL_78c1b2ec98554a42a9c2af86c7aaab7d",
            "placeholder": "​",
            "style": "IPY_MODEL_7f3dcff6f90f4864b9ef452e84996b4d",
            "value": "Dl Completed...: 100%"
          }
        },
        "9c61510f068c4780a94c27d689687657": {
          "model_module": "@jupyter-widgets/controls",
          "model_name": "FloatProgressModel",
          "model_module_version": "1.5.0",
          "state": {
            "_dom_classes": [],
            "_model_module": "@jupyter-widgets/controls",
            "_model_module_version": "1.5.0",
            "_model_name": "FloatProgressModel",
            "_view_count": null,
            "_view_module": "@jupyter-widgets/controls",
            "_view_module_version": "1.5.0",
            "_view_name": "ProgressView",
            "bar_style": "success",
            "description": "",
            "description_tooltip": null,
            "layout": "IPY_MODEL_914714adbf964ad785b26fa80f60331c",
            "max": 4,
            "min": 0,
            "orientation": "horizontal",
            "style": "IPY_MODEL_06ef8ace30bd401ab5408f7030a86ab5",
            "value": 4
          }
        },
        "79570e7b3607409b864a8e4c73d0cf53": {
          "model_module": "@jupyter-widgets/controls",
          "model_name": "HTMLModel",
          "model_module_version": "1.5.0",
          "state": {
            "_dom_classes": [],
            "_model_module": "@jupyter-widgets/controls",
            "_model_module_version": "1.5.0",
            "_model_name": "HTMLModel",
            "_view_count": null,
            "_view_module": "@jupyter-widgets/controls",
            "_view_module_version": "1.5.0",
            "_view_name": "HTMLView",
            "description": "",
            "description_tooltip": null,
            "layout": "IPY_MODEL_8e6747bb70924948a01032686f8bea69",
            "placeholder": "​",
            "style": "IPY_MODEL_bbf69b41dc664cdcaf133de4442e5b4c",
            "value": " 4/4 [00:00&lt;00:00,  8.78 file/s]"
          }
        },
        "3142c26a5c304dcd8f0afb1627177ce9": {
          "model_module": "@jupyter-widgets/base",
          "model_name": "LayoutModel",
          "model_module_version": "1.2.0",
          "state": {
            "_model_module": "@jupyter-widgets/base",
            "_model_module_version": "1.2.0",
            "_model_name": "LayoutModel",
            "_view_count": null,
            "_view_module": "@jupyter-widgets/base",
            "_view_module_version": "1.2.0",
            "_view_name": "LayoutView",
            "align_content": null,
            "align_items": null,
            "align_self": null,
            "border": null,
            "bottom": null,
            "display": null,
            "flex": null,
            "flex_flow": null,
            "grid_area": null,
            "grid_auto_columns": null,
            "grid_auto_flow": null,
            "grid_auto_rows": null,
            "grid_column": null,
            "grid_gap": null,
            "grid_row": null,
            "grid_template_areas": null,
            "grid_template_columns": null,
            "grid_template_rows": null,
            "height": null,
            "justify_content": null,
            "justify_items": null,
            "left": null,
            "margin": null,
            "max_height": null,
            "max_width": null,
            "min_height": null,
            "min_width": null,
            "object_fit": null,
            "object_position": null,
            "order": null,
            "overflow": null,
            "overflow_x": null,
            "overflow_y": null,
            "padding": null,
            "right": null,
            "top": null,
            "visibility": null,
            "width": null
          }
        },
        "78c1b2ec98554a42a9c2af86c7aaab7d": {
          "model_module": "@jupyter-widgets/base",
          "model_name": "LayoutModel",
          "model_module_version": "1.2.0",
          "state": {
            "_model_module": "@jupyter-widgets/base",
            "_model_module_version": "1.2.0",
            "_model_name": "LayoutModel",
            "_view_count": null,
            "_view_module": "@jupyter-widgets/base",
            "_view_module_version": "1.2.0",
            "_view_name": "LayoutView",
            "align_content": null,
            "align_items": null,
            "align_self": null,
            "border": null,
            "bottom": null,
            "display": null,
            "flex": null,
            "flex_flow": null,
            "grid_area": null,
            "grid_auto_columns": null,
            "grid_auto_flow": null,
            "grid_auto_rows": null,
            "grid_column": null,
            "grid_gap": null,
            "grid_row": null,
            "grid_template_areas": null,
            "grid_template_columns": null,
            "grid_template_rows": null,
            "height": null,
            "justify_content": null,
            "justify_items": null,
            "left": null,
            "margin": null,
            "max_height": null,
            "max_width": null,
            "min_height": null,
            "min_width": null,
            "object_fit": null,
            "object_position": null,
            "order": null,
            "overflow": null,
            "overflow_x": null,
            "overflow_y": null,
            "padding": null,
            "right": null,
            "top": null,
            "visibility": null,
            "width": null
          }
        },
        "7f3dcff6f90f4864b9ef452e84996b4d": {
          "model_module": "@jupyter-widgets/controls",
          "model_name": "DescriptionStyleModel",
          "model_module_version": "1.5.0",
          "state": {
            "_model_module": "@jupyter-widgets/controls",
            "_model_module_version": "1.5.0",
            "_model_name": "DescriptionStyleModel",
            "_view_count": null,
            "_view_module": "@jupyter-widgets/base",
            "_view_module_version": "1.2.0",
            "_view_name": "StyleView",
            "description_width": ""
          }
        },
        "914714adbf964ad785b26fa80f60331c": {
          "model_module": "@jupyter-widgets/base",
          "model_name": "LayoutModel",
          "model_module_version": "1.2.0",
          "state": {
            "_model_module": "@jupyter-widgets/base",
            "_model_module_version": "1.2.0",
            "_model_name": "LayoutModel",
            "_view_count": null,
            "_view_module": "@jupyter-widgets/base",
            "_view_module_version": "1.2.0",
            "_view_name": "LayoutView",
            "align_content": null,
            "align_items": null,
            "align_self": null,
            "border": null,
            "bottom": null,
            "display": null,
            "flex": null,
            "flex_flow": null,
            "grid_area": null,
            "grid_auto_columns": null,
            "grid_auto_flow": null,
            "grid_auto_rows": null,
            "grid_column": null,
            "grid_gap": null,
            "grid_row": null,
            "grid_template_areas": null,
            "grid_template_columns": null,
            "grid_template_rows": null,
            "height": null,
            "justify_content": null,
            "justify_items": null,
            "left": null,
            "margin": null,
            "max_height": null,
            "max_width": null,
            "min_height": null,
            "min_width": null,
            "object_fit": null,
            "object_position": null,
            "order": null,
            "overflow": null,
            "overflow_x": null,
            "overflow_y": null,
            "padding": null,
            "right": null,
            "top": null,
            "visibility": null,
            "width": null
          }
        },
        "06ef8ace30bd401ab5408f7030a86ab5": {
          "model_module": "@jupyter-widgets/controls",
          "model_name": "ProgressStyleModel",
          "model_module_version": "1.5.0",
          "state": {
            "_model_module": "@jupyter-widgets/controls",
            "_model_module_version": "1.5.0",
            "_model_name": "ProgressStyleModel",
            "_view_count": null,
            "_view_module": "@jupyter-widgets/base",
            "_view_module_version": "1.2.0",
            "_view_name": "StyleView",
            "bar_color": null,
            "description_width": ""
          }
        },
        "8e6747bb70924948a01032686f8bea69": {
          "model_module": "@jupyter-widgets/base",
          "model_name": "LayoutModel",
          "model_module_version": "1.2.0",
          "state": {
            "_model_module": "@jupyter-widgets/base",
            "_model_module_version": "1.2.0",
            "_model_name": "LayoutModel",
            "_view_count": null,
            "_view_module": "@jupyter-widgets/base",
            "_view_module_version": "1.2.0",
            "_view_name": "LayoutView",
            "align_content": null,
            "align_items": null,
            "align_self": null,
            "border": null,
            "bottom": null,
            "display": null,
            "flex": null,
            "flex_flow": null,
            "grid_area": null,
            "grid_auto_columns": null,
            "grid_auto_flow": null,
            "grid_auto_rows": null,
            "grid_column": null,
            "grid_gap": null,
            "grid_row": null,
            "grid_template_areas": null,
            "grid_template_columns": null,
            "grid_template_rows": null,
            "height": null,
            "justify_content": null,
            "justify_items": null,
            "left": null,
            "margin": null,
            "max_height": null,
            "max_width": null,
            "min_height": null,
            "min_width": null,
            "object_fit": null,
            "object_position": null,
            "order": null,
            "overflow": null,
            "overflow_x": null,
            "overflow_y": null,
            "padding": null,
            "right": null,
            "top": null,
            "visibility": null,
            "width": null
          }
        },
        "bbf69b41dc664cdcaf133de4442e5b4c": {
          "model_module": "@jupyter-widgets/controls",
          "model_name": "DescriptionStyleModel",
          "model_module_version": "1.5.0",
          "state": {
            "_model_module": "@jupyter-widgets/controls",
            "_model_module_version": "1.5.0",
            "_model_name": "DescriptionStyleModel",
            "_view_count": null,
            "_view_module": "@jupyter-widgets/base",
            "_view_module_version": "1.2.0",
            "_view_name": "StyleView",
            "description_width": ""
          }
        },
        "ed4114eaebd84a42b9009d8986acde10": {
          "model_module": "@jupyter-widgets/controls",
          "model_name": "HBoxModel",
          "model_module_version": "1.5.0",
          "state": {
            "_dom_classes": [],
            "_model_module": "@jupyter-widgets/controls",
            "_model_module_version": "1.5.0",
            "_model_name": "HBoxModel",
            "_view_count": null,
            "_view_module": "@jupyter-widgets/controls",
            "_view_module_version": "1.5.0",
            "_view_name": "HBoxView",
            "box_style": "",
            "children": [
              "IPY_MODEL_ae6fc4d974d2470c962d114d0c0e0e67",
              "IPY_MODEL_8f4609bc49b3429a9df5995a51b13ad5",
              "IPY_MODEL_25049a65411349a9ad0214cb258ba8a5"
            ],
            "layout": "IPY_MODEL_72a3483ce95b42479f59b5ebd0f08ad5"
          }
        },
        "ae6fc4d974d2470c962d114d0c0e0e67": {
          "model_module": "@jupyter-widgets/controls",
          "model_name": "HTMLModel",
          "model_module_version": "1.5.0",
          "state": {
            "_dom_classes": [],
            "_model_module": "@jupyter-widgets/controls",
            "_model_module_version": "1.5.0",
            "_model_name": "HTMLModel",
            "_view_count": null,
            "_view_module": "@jupyter-widgets/controls",
            "_view_module_version": "1.5.0",
            "_view_name": "HTMLView",
            "description": "",
            "description_tooltip": null,
            "layout": "IPY_MODEL_8528e5f5b09040a78a29440764d67635",
            "placeholder": "​",
            "style": "IPY_MODEL_bef6334add174b55b1816667c6e65d71",
            "value": "Dl Completed...: 100%"
          }
        },
        "8f4609bc49b3429a9df5995a51b13ad5": {
          "model_module": "@jupyter-widgets/controls",
          "model_name": "FloatProgressModel",
          "model_module_version": "1.5.0",
          "state": {
            "_dom_classes": [],
            "_model_module": "@jupyter-widgets/controls",
            "_model_module_version": "1.5.0",
            "_model_name": "FloatProgressModel",
            "_view_count": null,
            "_view_module": "@jupyter-widgets/controls",
            "_view_module_version": "1.5.0",
            "_view_name": "ProgressView",
            "bar_style": "success",
            "description": "",
            "description_tooltip": null,
            "layout": "IPY_MODEL_86902cf059c7408eb9ec26ae7fb17448",
            "max": 1,
            "min": 0,
            "orientation": "horizontal",
            "style": "IPY_MODEL_ea397180e38d4bcea8191d6bf807fc6d",
            "value": 1
          }
        },
        "25049a65411349a9ad0214cb258ba8a5": {
          "model_module": "@jupyter-widgets/controls",
          "model_name": "HTMLModel",
          "model_module_version": "1.5.0",
          "state": {
            "_dom_classes": [],
            "_model_module": "@jupyter-widgets/controls",
            "_model_module_version": "1.5.0",
            "_model_name": "HTMLModel",
            "_view_count": null,
            "_view_module": "@jupyter-widgets/controls",
            "_view_module_version": "1.5.0",
            "_view_name": "HTMLView",
            "description": "",
            "description_tooltip": null,
            "layout": "IPY_MODEL_a5505cbbdfa74f6893a1ae2c0fc8aa05",
            "placeholder": "​",
            "style": "IPY_MODEL_a4266c95beac40fe8fc972bfc0314843",
            "value": " 4/4 [00:02&lt;00:00,  1.67 url/s]"
          }
        },
        "72a3483ce95b42479f59b5ebd0f08ad5": {
          "model_module": "@jupyter-widgets/base",
          "model_name": "LayoutModel",
          "model_module_version": "1.2.0",
          "state": {
            "_model_module": "@jupyter-widgets/base",
            "_model_module_version": "1.2.0",
            "_model_name": "LayoutModel",
            "_view_count": null,
            "_view_module": "@jupyter-widgets/base",
            "_view_module_version": "1.2.0",
            "_view_name": "LayoutView",
            "align_content": null,
            "align_items": null,
            "align_self": null,
            "border": null,
            "bottom": null,
            "display": null,
            "flex": null,
            "flex_flow": null,
            "grid_area": null,
            "grid_auto_columns": null,
            "grid_auto_flow": null,
            "grid_auto_rows": null,
            "grid_column": null,
            "grid_gap": null,
            "grid_row": null,
            "grid_template_areas": null,
            "grid_template_columns": null,
            "grid_template_rows": null,
            "height": null,
            "justify_content": null,
            "justify_items": null,
            "left": null,
            "margin": null,
            "max_height": null,
            "max_width": null,
            "min_height": null,
            "min_width": null,
            "object_fit": null,
            "object_position": null,
            "order": null,
            "overflow": null,
            "overflow_x": null,
            "overflow_y": null,
            "padding": null,
            "right": null,
            "top": null,
            "visibility": null,
            "width": null
          }
        },
        "8528e5f5b09040a78a29440764d67635": {
          "model_module": "@jupyter-widgets/base",
          "model_name": "LayoutModel",
          "model_module_version": "1.2.0",
          "state": {
            "_model_module": "@jupyter-widgets/base",
            "_model_module_version": "1.2.0",
            "_model_name": "LayoutModel",
            "_view_count": null,
            "_view_module": "@jupyter-widgets/base",
            "_view_module_version": "1.2.0",
            "_view_name": "LayoutView",
            "align_content": null,
            "align_items": null,
            "align_self": null,
            "border": null,
            "bottom": null,
            "display": null,
            "flex": null,
            "flex_flow": null,
            "grid_area": null,
            "grid_auto_columns": null,
            "grid_auto_flow": null,
            "grid_auto_rows": null,
            "grid_column": null,
            "grid_gap": null,
            "grid_row": null,
            "grid_template_areas": null,
            "grid_template_columns": null,
            "grid_template_rows": null,
            "height": null,
            "justify_content": null,
            "justify_items": null,
            "left": null,
            "margin": null,
            "max_height": null,
            "max_width": null,
            "min_height": null,
            "min_width": null,
            "object_fit": null,
            "object_position": null,
            "order": null,
            "overflow": null,
            "overflow_x": null,
            "overflow_y": null,
            "padding": null,
            "right": null,
            "top": null,
            "visibility": null,
            "width": null
          }
        },
        "bef6334add174b55b1816667c6e65d71": {
          "model_module": "@jupyter-widgets/controls",
          "model_name": "DescriptionStyleModel",
          "model_module_version": "1.5.0",
          "state": {
            "_model_module": "@jupyter-widgets/controls",
            "_model_module_version": "1.5.0",
            "_model_name": "DescriptionStyleModel",
            "_view_count": null,
            "_view_module": "@jupyter-widgets/base",
            "_view_module_version": "1.2.0",
            "_view_name": "StyleView",
            "description_width": ""
          }
        },
        "86902cf059c7408eb9ec26ae7fb17448": {
          "model_module": "@jupyter-widgets/base",
          "model_name": "LayoutModel",
          "model_module_version": "1.2.0",
          "state": {
            "_model_module": "@jupyter-widgets/base",
            "_model_module_version": "1.2.0",
            "_model_name": "LayoutModel",
            "_view_count": null,
            "_view_module": "@jupyter-widgets/base",
            "_view_module_version": "1.2.0",
            "_view_name": "LayoutView",
            "align_content": null,
            "align_items": null,
            "align_self": null,
            "border": null,
            "bottom": null,
            "display": null,
            "flex": null,
            "flex_flow": null,
            "grid_area": null,
            "grid_auto_columns": null,
            "grid_auto_flow": null,
            "grid_auto_rows": null,
            "grid_column": null,
            "grid_gap": null,
            "grid_row": null,
            "grid_template_areas": null,
            "grid_template_columns": null,
            "grid_template_rows": null,
            "height": null,
            "justify_content": null,
            "justify_items": null,
            "left": null,
            "margin": null,
            "max_height": null,
            "max_width": null,
            "min_height": null,
            "min_width": null,
            "object_fit": null,
            "object_position": null,
            "order": null,
            "overflow": null,
            "overflow_x": null,
            "overflow_y": null,
            "padding": null,
            "right": null,
            "top": null,
            "visibility": null,
            "width": "20px"
          }
        },
        "ea397180e38d4bcea8191d6bf807fc6d": {
          "model_module": "@jupyter-widgets/controls",
          "model_name": "ProgressStyleModel",
          "model_module_version": "1.5.0",
          "state": {
            "_model_module": "@jupyter-widgets/controls",
            "_model_module_version": "1.5.0",
            "_model_name": "ProgressStyleModel",
            "_view_count": null,
            "_view_module": "@jupyter-widgets/base",
            "_view_module_version": "1.2.0",
            "_view_name": "StyleView",
            "bar_color": null,
            "description_width": ""
          }
        },
        "a5505cbbdfa74f6893a1ae2c0fc8aa05": {
          "model_module": "@jupyter-widgets/base",
          "model_name": "LayoutModel",
          "model_module_version": "1.2.0",
          "state": {
            "_model_module": "@jupyter-widgets/base",
            "_model_module_version": "1.2.0",
            "_model_name": "LayoutModel",
            "_view_count": null,
            "_view_module": "@jupyter-widgets/base",
            "_view_module_version": "1.2.0",
            "_view_name": "LayoutView",
            "align_content": null,
            "align_items": null,
            "align_self": null,
            "border": null,
            "bottom": null,
            "display": null,
            "flex": null,
            "flex_flow": null,
            "grid_area": null,
            "grid_auto_columns": null,
            "grid_auto_flow": null,
            "grid_auto_rows": null,
            "grid_column": null,
            "grid_gap": null,
            "grid_row": null,
            "grid_template_areas": null,
            "grid_template_columns": null,
            "grid_template_rows": null,
            "height": null,
            "justify_content": null,
            "justify_items": null,
            "left": null,
            "margin": null,
            "max_height": null,
            "max_width": null,
            "min_height": null,
            "min_width": null,
            "object_fit": null,
            "object_position": null,
            "order": null,
            "overflow": null,
            "overflow_x": null,
            "overflow_y": null,
            "padding": null,
            "right": null,
            "top": null,
            "visibility": null,
            "width": null
          }
        },
        "a4266c95beac40fe8fc972bfc0314843": {
          "model_module": "@jupyter-widgets/controls",
          "model_name": "DescriptionStyleModel",
          "model_module_version": "1.5.0",
          "state": {
            "_model_module": "@jupyter-widgets/controls",
            "_model_module_version": "1.5.0",
            "_model_name": "DescriptionStyleModel",
            "_view_count": null,
            "_view_module": "@jupyter-widgets/base",
            "_view_module_version": "1.2.0",
            "_view_name": "StyleView",
            "description_width": ""
          }
        },
        "31c65ad1a74542ea98d341f336e3ac98": {
          "model_module": "@jupyter-widgets/controls",
          "model_name": "HBoxModel",
          "model_module_version": "1.5.0",
          "state": {
            "_dom_classes": [],
            "_model_module": "@jupyter-widgets/controls",
            "_model_module_version": "1.5.0",
            "_model_name": "HBoxModel",
            "_view_count": null,
            "_view_module": "@jupyter-widgets/controls",
            "_view_module_version": "1.5.0",
            "_view_name": "HBoxView",
            "box_style": "",
            "children": [
              "IPY_MODEL_7055e206c38447d1844d9e51b60d38ff",
              "IPY_MODEL_e435d7a6bbe7411baf8651e07828e811",
              "IPY_MODEL_b98de5b5bb7c49b68a415170c6e470e7"
            ],
            "layout": "IPY_MODEL_5688228dcae54a5e8ea5be8197070683"
          }
        },
        "7055e206c38447d1844d9e51b60d38ff": {
          "model_module": "@jupyter-widgets/controls",
          "model_name": "HTMLModel",
          "model_module_version": "1.5.0",
          "state": {
            "_dom_classes": [],
            "_model_module": "@jupyter-widgets/controls",
            "_model_module_version": "1.5.0",
            "_model_name": "HTMLModel",
            "_view_count": null,
            "_view_module": "@jupyter-widgets/controls",
            "_view_module_version": "1.5.0",
            "_view_name": "HTMLView",
            "description": "",
            "description_tooltip": null,
            "layout": "IPY_MODEL_d49b18d3ee984c248951a6dcec260585",
            "placeholder": "​",
            "style": "IPY_MODEL_411b7018788d40ac912330c959282c1a",
            "value": "Dl Size...: 100%"
          }
        },
        "e435d7a6bbe7411baf8651e07828e811": {
          "model_module": "@jupyter-widgets/controls",
          "model_name": "FloatProgressModel",
          "model_module_version": "1.5.0",
          "state": {
            "_dom_classes": [],
            "_model_module": "@jupyter-widgets/controls",
            "_model_module_version": "1.5.0",
            "_model_name": "FloatProgressModel",
            "_view_count": null,
            "_view_module": "@jupyter-widgets/controls",
            "_view_module_version": "1.5.0",
            "_view_name": "ProgressView",
            "bar_style": "success",
            "description": "",
            "description_tooltip": null,
            "layout": "IPY_MODEL_4d3a2c9af1724b1bab30b71d6528860f",
            "max": 1,
            "min": 0,
            "orientation": "horizontal",
            "style": "IPY_MODEL_3e4f904e4f304eadbf1b88e26f825fed",
            "value": 1
          }
        },
        "b98de5b5bb7c49b68a415170c6e470e7": {
          "model_module": "@jupyter-widgets/controls",
          "model_name": "HTMLModel",
          "model_module_version": "1.5.0",
          "state": {
            "_dom_classes": [],
            "_model_module": "@jupyter-widgets/controls",
            "_model_module_version": "1.5.0",
            "_model_name": "HTMLModel",
            "_view_count": null,
            "_view_module": "@jupyter-widgets/controls",
            "_view_module_version": "1.5.0",
            "_view_name": "HTMLView",
            "description": "",
            "description_tooltip": null,
            "layout": "IPY_MODEL_bb1d6a693e2a4f15beaab13ddde555af",
            "placeholder": "​",
            "style": "IPY_MODEL_9ccc64ff93a54eadbcc3ac0e53c3dd04",
            "value": " 29/29 [00:02&lt;00:00, 23.72 MiB/s]"
          }
        },
        "5688228dcae54a5e8ea5be8197070683": {
          "model_module": "@jupyter-widgets/base",
          "model_name": "LayoutModel",
          "model_module_version": "1.2.0",
          "state": {
            "_model_module": "@jupyter-widgets/base",
            "_model_module_version": "1.2.0",
            "_model_name": "LayoutModel",
            "_view_count": null,
            "_view_module": "@jupyter-widgets/base",
            "_view_module_version": "1.2.0",
            "_view_name": "LayoutView",
            "align_content": null,
            "align_items": null,
            "align_self": null,
            "border": null,
            "bottom": null,
            "display": null,
            "flex": null,
            "flex_flow": null,
            "grid_area": null,
            "grid_auto_columns": null,
            "grid_auto_flow": null,
            "grid_auto_rows": null,
            "grid_column": null,
            "grid_gap": null,
            "grid_row": null,
            "grid_template_areas": null,
            "grid_template_columns": null,
            "grid_template_rows": null,
            "height": null,
            "justify_content": null,
            "justify_items": null,
            "left": null,
            "margin": null,
            "max_height": null,
            "max_width": null,
            "min_height": null,
            "min_width": null,
            "object_fit": null,
            "object_position": null,
            "order": null,
            "overflow": null,
            "overflow_x": null,
            "overflow_y": null,
            "padding": null,
            "right": null,
            "top": null,
            "visibility": null,
            "width": null
          }
        },
        "d49b18d3ee984c248951a6dcec260585": {
          "model_module": "@jupyter-widgets/base",
          "model_name": "LayoutModel",
          "model_module_version": "1.2.0",
          "state": {
            "_model_module": "@jupyter-widgets/base",
            "_model_module_version": "1.2.0",
            "_model_name": "LayoutModel",
            "_view_count": null,
            "_view_module": "@jupyter-widgets/base",
            "_view_module_version": "1.2.0",
            "_view_name": "LayoutView",
            "align_content": null,
            "align_items": null,
            "align_self": null,
            "border": null,
            "bottom": null,
            "display": null,
            "flex": null,
            "flex_flow": null,
            "grid_area": null,
            "grid_auto_columns": null,
            "grid_auto_flow": null,
            "grid_auto_rows": null,
            "grid_column": null,
            "grid_gap": null,
            "grid_row": null,
            "grid_template_areas": null,
            "grid_template_columns": null,
            "grid_template_rows": null,
            "height": null,
            "justify_content": null,
            "justify_items": null,
            "left": null,
            "margin": null,
            "max_height": null,
            "max_width": null,
            "min_height": null,
            "min_width": null,
            "object_fit": null,
            "object_position": null,
            "order": null,
            "overflow": null,
            "overflow_x": null,
            "overflow_y": null,
            "padding": null,
            "right": null,
            "top": null,
            "visibility": null,
            "width": null
          }
        },
        "411b7018788d40ac912330c959282c1a": {
          "model_module": "@jupyter-widgets/controls",
          "model_name": "DescriptionStyleModel",
          "model_module_version": "1.5.0",
          "state": {
            "_model_module": "@jupyter-widgets/controls",
            "_model_module_version": "1.5.0",
            "_model_name": "DescriptionStyleModel",
            "_view_count": null,
            "_view_module": "@jupyter-widgets/base",
            "_view_module_version": "1.2.0",
            "_view_name": "StyleView",
            "description_width": ""
          }
        },
        "4d3a2c9af1724b1bab30b71d6528860f": {
          "model_module": "@jupyter-widgets/base",
          "model_name": "LayoutModel",
          "model_module_version": "1.2.0",
          "state": {
            "_model_module": "@jupyter-widgets/base",
            "_model_module_version": "1.2.0",
            "_model_name": "LayoutModel",
            "_view_count": null,
            "_view_module": "@jupyter-widgets/base",
            "_view_module_version": "1.2.0",
            "_view_name": "LayoutView",
            "align_content": null,
            "align_items": null,
            "align_self": null,
            "border": null,
            "bottom": null,
            "display": null,
            "flex": null,
            "flex_flow": null,
            "grid_area": null,
            "grid_auto_columns": null,
            "grid_auto_flow": null,
            "grid_auto_rows": null,
            "grid_column": null,
            "grid_gap": null,
            "grid_row": null,
            "grid_template_areas": null,
            "grid_template_columns": null,
            "grid_template_rows": null,
            "height": null,
            "justify_content": null,
            "justify_items": null,
            "left": null,
            "margin": null,
            "max_height": null,
            "max_width": null,
            "min_height": null,
            "min_width": null,
            "object_fit": null,
            "object_position": null,
            "order": null,
            "overflow": null,
            "overflow_x": null,
            "overflow_y": null,
            "padding": null,
            "right": null,
            "top": null,
            "visibility": null,
            "width": "20px"
          }
        },
        "3e4f904e4f304eadbf1b88e26f825fed": {
          "model_module": "@jupyter-widgets/controls",
          "model_name": "ProgressStyleModel",
          "model_module_version": "1.5.0",
          "state": {
            "_model_module": "@jupyter-widgets/controls",
            "_model_module_version": "1.5.0",
            "_model_name": "ProgressStyleModel",
            "_view_count": null,
            "_view_module": "@jupyter-widgets/base",
            "_view_module_version": "1.2.0",
            "_view_name": "StyleView",
            "bar_color": null,
            "description_width": ""
          }
        },
        "bb1d6a693e2a4f15beaab13ddde555af": {
          "model_module": "@jupyter-widgets/base",
          "model_name": "LayoutModel",
          "model_module_version": "1.2.0",
          "state": {
            "_model_module": "@jupyter-widgets/base",
            "_model_module_version": "1.2.0",
            "_model_name": "LayoutModel",
            "_view_count": null,
            "_view_module": "@jupyter-widgets/base",
            "_view_module_version": "1.2.0",
            "_view_name": "LayoutView",
            "align_content": null,
            "align_items": null,
            "align_self": null,
            "border": null,
            "bottom": null,
            "display": null,
            "flex": null,
            "flex_flow": null,
            "grid_area": null,
            "grid_auto_columns": null,
            "grid_auto_flow": null,
            "grid_auto_rows": null,
            "grid_column": null,
            "grid_gap": null,
            "grid_row": null,
            "grid_template_areas": null,
            "grid_template_columns": null,
            "grid_template_rows": null,
            "height": null,
            "justify_content": null,
            "justify_items": null,
            "left": null,
            "margin": null,
            "max_height": null,
            "max_width": null,
            "min_height": null,
            "min_width": null,
            "object_fit": null,
            "object_position": null,
            "order": null,
            "overflow": null,
            "overflow_x": null,
            "overflow_y": null,
            "padding": null,
            "right": null,
            "top": null,
            "visibility": null,
            "width": null
          }
        },
        "9ccc64ff93a54eadbcc3ac0e53c3dd04": {
          "model_module": "@jupyter-widgets/controls",
          "model_name": "DescriptionStyleModel",
          "model_module_version": "1.5.0",
          "state": {
            "_model_module": "@jupyter-widgets/controls",
            "_model_module_version": "1.5.0",
            "_model_name": "DescriptionStyleModel",
            "_view_count": null,
            "_view_module": "@jupyter-widgets/base",
            "_view_module_version": "1.2.0",
            "_view_name": "StyleView",
            "description_width": ""
          }
        },
        "1c4754f0ffdd4dd6878ca6cebd190212": {
          "model_module": "@jupyter-widgets/controls",
          "model_name": "HBoxModel",
          "model_module_version": "1.5.0",
          "state": {
            "_dom_classes": [],
            "_model_module": "@jupyter-widgets/controls",
            "_model_module_version": "1.5.0",
            "_model_name": "HBoxModel",
            "_view_count": null,
            "_view_module": "@jupyter-widgets/controls",
            "_view_module_version": "1.5.0",
            "_view_name": "HBoxView",
            "box_style": "",
            "children": [
              "IPY_MODEL_f09964e1f6b1410ca0060bb9a22b365b",
              "IPY_MODEL_8e1498d45a744b53a2bbf668630b5573",
              "IPY_MODEL_53cb00c16bfb401a93fb5c6cb32aae86"
            ],
            "layout": "IPY_MODEL_20a113b9e7954723a35e88b99dcbf3a3"
          }
        },
        "f09964e1f6b1410ca0060bb9a22b365b": {
          "model_module": "@jupyter-widgets/controls",
          "model_name": "HTMLModel",
          "model_module_version": "1.5.0",
          "state": {
            "_dom_classes": [],
            "_model_module": "@jupyter-widgets/controls",
            "_model_module_version": "1.5.0",
            "_model_name": "HTMLModel",
            "_view_count": null,
            "_view_module": "@jupyter-widgets/controls",
            "_view_module_version": "1.5.0",
            "_view_name": "HTMLView",
            "description": "",
            "description_tooltip": null,
            "layout": "IPY_MODEL_74cb1dc4d95d494199a5e744aa858062",
            "placeholder": "​",
            "style": "IPY_MODEL_c14118895689434a925c4e04523e5cc8",
            "value": "Extraction completed...: 100%"
          }
        },
        "8e1498d45a744b53a2bbf668630b5573": {
          "model_module": "@jupyter-widgets/controls",
          "model_name": "FloatProgressModel",
          "model_module_version": "1.5.0",
          "state": {
            "_dom_classes": [],
            "_model_module": "@jupyter-widgets/controls",
            "_model_module_version": "1.5.0",
            "_model_name": "FloatProgressModel",
            "_view_count": null,
            "_view_module": "@jupyter-widgets/controls",
            "_view_module_version": "1.5.0",
            "_view_name": "ProgressView",
            "bar_style": "success",
            "description": "",
            "description_tooltip": null,
            "layout": "IPY_MODEL_1ec31aea6be046a8ab03ba2b398b921b",
            "max": 1,
            "min": 0,
            "orientation": "horizontal",
            "style": "IPY_MODEL_964892b373654e35b1832b4262425599",
            "value": 1
          }
        },
        "53cb00c16bfb401a93fb5c6cb32aae86": {
          "model_module": "@jupyter-widgets/controls",
          "model_name": "HTMLModel",
          "model_module_version": "1.5.0",
          "state": {
            "_dom_classes": [],
            "_model_module": "@jupyter-widgets/controls",
            "_model_module_version": "1.5.0",
            "_model_name": "HTMLModel",
            "_view_count": null,
            "_view_module": "@jupyter-widgets/controls",
            "_view_module_version": "1.5.0",
            "_view_name": "HTMLView",
            "description": "",
            "description_tooltip": null,
            "layout": "IPY_MODEL_2aff57f18ba848f8955b79e5d868b5c3",
            "placeholder": "​",
            "style": "IPY_MODEL_b2866c51214c411c97b5fc4d05e98456",
            "value": " 4/4 [00:02&lt;00:00,  1.37 file/s]"
          }
        },
        "20a113b9e7954723a35e88b99dcbf3a3": {
          "model_module": "@jupyter-widgets/base",
          "model_name": "LayoutModel",
          "model_module_version": "1.2.0",
          "state": {
            "_model_module": "@jupyter-widgets/base",
            "_model_module_version": "1.2.0",
            "_model_name": "LayoutModel",
            "_view_count": null,
            "_view_module": "@jupyter-widgets/base",
            "_view_module_version": "1.2.0",
            "_view_name": "LayoutView",
            "align_content": null,
            "align_items": null,
            "align_self": null,
            "border": null,
            "bottom": null,
            "display": null,
            "flex": null,
            "flex_flow": null,
            "grid_area": null,
            "grid_auto_columns": null,
            "grid_auto_flow": null,
            "grid_auto_rows": null,
            "grid_column": null,
            "grid_gap": null,
            "grid_row": null,
            "grid_template_areas": null,
            "grid_template_columns": null,
            "grid_template_rows": null,
            "height": null,
            "justify_content": null,
            "justify_items": null,
            "left": null,
            "margin": null,
            "max_height": null,
            "max_width": null,
            "min_height": null,
            "min_width": null,
            "object_fit": null,
            "object_position": null,
            "order": null,
            "overflow": null,
            "overflow_x": null,
            "overflow_y": null,
            "padding": null,
            "right": null,
            "top": null,
            "visibility": null,
            "width": null
          }
        },
        "74cb1dc4d95d494199a5e744aa858062": {
          "model_module": "@jupyter-widgets/base",
          "model_name": "LayoutModel",
          "model_module_version": "1.2.0",
          "state": {
            "_model_module": "@jupyter-widgets/base",
            "_model_module_version": "1.2.0",
            "_model_name": "LayoutModel",
            "_view_count": null,
            "_view_module": "@jupyter-widgets/base",
            "_view_module_version": "1.2.0",
            "_view_name": "LayoutView",
            "align_content": null,
            "align_items": null,
            "align_self": null,
            "border": null,
            "bottom": null,
            "display": null,
            "flex": null,
            "flex_flow": null,
            "grid_area": null,
            "grid_auto_columns": null,
            "grid_auto_flow": null,
            "grid_auto_rows": null,
            "grid_column": null,
            "grid_gap": null,
            "grid_row": null,
            "grid_template_areas": null,
            "grid_template_columns": null,
            "grid_template_rows": null,
            "height": null,
            "justify_content": null,
            "justify_items": null,
            "left": null,
            "margin": null,
            "max_height": null,
            "max_width": null,
            "min_height": null,
            "min_width": null,
            "object_fit": null,
            "object_position": null,
            "order": null,
            "overflow": null,
            "overflow_x": null,
            "overflow_y": null,
            "padding": null,
            "right": null,
            "top": null,
            "visibility": null,
            "width": null
          }
        },
        "c14118895689434a925c4e04523e5cc8": {
          "model_module": "@jupyter-widgets/controls",
          "model_name": "DescriptionStyleModel",
          "model_module_version": "1.5.0",
          "state": {
            "_model_module": "@jupyter-widgets/controls",
            "_model_module_version": "1.5.0",
            "_model_name": "DescriptionStyleModel",
            "_view_count": null,
            "_view_module": "@jupyter-widgets/base",
            "_view_module_version": "1.2.0",
            "_view_name": "StyleView",
            "description_width": ""
          }
        },
        "1ec31aea6be046a8ab03ba2b398b921b": {
          "model_module": "@jupyter-widgets/base",
          "model_name": "LayoutModel",
          "model_module_version": "1.2.0",
          "state": {
            "_model_module": "@jupyter-widgets/base",
            "_model_module_version": "1.2.0",
            "_model_name": "LayoutModel",
            "_view_count": null,
            "_view_module": "@jupyter-widgets/base",
            "_view_module_version": "1.2.0",
            "_view_name": "LayoutView",
            "align_content": null,
            "align_items": null,
            "align_self": null,
            "border": null,
            "bottom": null,
            "display": null,
            "flex": null,
            "flex_flow": null,
            "grid_area": null,
            "grid_auto_columns": null,
            "grid_auto_flow": null,
            "grid_auto_rows": null,
            "grid_column": null,
            "grid_gap": null,
            "grid_row": null,
            "grid_template_areas": null,
            "grid_template_columns": null,
            "grid_template_rows": null,
            "height": null,
            "justify_content": null,
            "justify_items": null,
            "left": null,
            "margin": null,
            "max_height": null,
            "max_width": null,
            "min_height": null,
            "min_width": null,
            "object_fit": null,
            "object_position": null,
            "order": null,
            "overflow": null,
            "overflow_x": null,
            "overflow_y": null,
            "padding": null,
            "right": null,
            "top": null,
            "visibility": null,
            "width": "20px"
          }
        },
        "964892b373654e35b1832b4262425599": {
          "model_module": "@jupyter-widgets/controls",
          "model_name": "ProgressStyleModel",
          "model_module_version": "1.5.0",
          "state": {
            "_model_module": "@jupyter-widgets/controls",
            "_model_module_version": "1.5.0",
            "_model_name": "ProgressStyleModel",
            "_view_count": null,
            "_view_module": "@jupyter-widgets/base",
            "_view_module_version": "1.2.0",
            "_view_name": "StyleView",
            "bar_color": null,
            "description_width": ""
          }
        },
        "2aff57f18ba848f8955b79e5d868b5c3": {
          "model_module": "@jupyter-widgets/base",
          "model_name": "LayoutModel",
          "model_module_version": "1.2.0",
          "state": {
            "_model_module": "@jupyter-widgets/base",
            "_model_module_version": "1.2.0",
            "_model_name": "LayoutModel",
            "_view_count": null,
            "_view_module": "@jupyter-widgets/base",
            "_view_module_version": "1.2.0",
            "_view_name": "LayoutView",
            "align_content": null,
            "align_items": null,
            "align_self": null,
            "border": null,
            "bottom": null,
            "display": null,
            "flex": null,
            "flex_flow": null,
            "grid_area": null,
            "grid_auto_columns": null,
            "grid_auto_flow": null,
            "grid_auto_rows": null,
            "grid_column": null,
            "grid_gap": null,
            "grid_row": null,
            "grid_template_areas": null,
            "grid_template_columns": null,
            "grid_template_rows": null,
            "height": null,
            "justify_content": null,
            "justify_items": null,
            "left": null,
            "margin": null,
            "max_height": null,
            "max_width": null,
            "min_height": null,
            "min_width": null,
            "object_fit": null,
            "object_position": null,
            "order": null,
            "overflow": null,
            "overflow_x": null,
            "overflow_y": null,
            "padding": null,
            "right": null,
            "top": null,
            "visibility": null,
            "width": null
          }
        },
        "b2866c51214c411c97b5fc4d05e98456": {
          "model_module": "@jupyter-widgets/controls",
          "model_name": "DescriptionStyleModel",
          "model_module_version": "1.5.0",
          "state": {
            "_model_module": "@jupyter-widgets/controls",
            "_model_module_version": "1.5.0",
            "_model_name": "DescriptionStyleModel",
            "_view_count": null,
            "_view_module": "@jupyter-widgets/base",
            "_view_module_version": "1.2.0",
            "_view_name": "StyleView",
            "description_width": ""
          }
        },
        "51d0d69978f5472db048968810d56204": {
          "model_module": "@jupyter-widgets/controls",
          "model_name": "HBoxModel",
          "model_module_version": "1.5.0",
          "state": {
            "_dom_classes": [],
            "_model_module": "@jupyter-widgets/controls",
            "_model_module_version": "1.5.0",
            "_model_name": "HBoxModel",
            "_view_count": null,
            "_view_module": "@jupyter-widgets/controls",
            "_view_module_version": "1.5.0",
            "_view_name": "HBoxView",
            "box_style": "",
            "children": [
              "IPY_MODEL_3829933bd78d48308f81712951a5285c",
              "IPY_MODEL_fdee02f1e80d4a2794e7c9aaceffd345",
              "IPY_MODEL_b507b2333a3142cba654d7267e52fbba"
            ],
            "layout": "IPY_MODEL_ef87a1de35df4bbf83f5200935d5b414"
          }
        },
        "3829933bd78d48308f81712951a5285c": {
          "model_module": "@jupyter-widgets/controls",
          "model_name": "HTMLModel",
          "model_module_version": "1.5.0",
          "state": {
            "_dom_classes": [],
            "_model_module": "@jupyter-widgets/controls",
            "_model_module_version": "1.5.0",
            "_model_name": "HTMLModel",
            "_view_count": null,
            "_view_module": "@jupyter-widgets/controls",
            "_view_module_version": "1.5.0",
            "_view_name": "HTMLView",
            "description": "",
            "description_tooltip": null,
            "layout": "IPY_MODEL_3011130083904c248a1fd97273ba6edb",
            "placeholder": "​",
            "style": "IPY_MODEL_b39e94d0009645eaa1cabe0e100d4fa7",
            "value": "Generating splits...: 100%"
          }
        },
        "fdee02f1e80d4a2794e7c9aaceffd345": {
          "model_module": "@jupyter-widgets/controls",
          "model_name": "FloatProgressModel",
          "model_module_version": "1.5.0",
          "state": {
            "_dom_classes": [],
            "_model_module": "@jupyter-widgets/controls",
            "_model_module_version": "1.5.0",
            "_model_name": "FloatProgressModel",
            "_view_count": null,
            "_view_module": "@jupyter-widgets/controls",
            "_view_module_version": "1.5.0",
            "_view_name": "ProgressView",
            "bar_style": "",
            "description": "",
            "description_tooltip": null,
            "layout": "IPY_MODEL_cfb222dd5f3b441b9db89f0f483d9e4a",
            "max": 2,
            "min": 0,
            "orientation": "horizontal",
            "style": "IPY_MODEL_e3c80935b90640c19366f0c28aae972d",
            "value": 2
          }
        },
        "b507b2333a3142cba654d7267e52fbba": {
          "model_module": "@jupyter-widgets/controls",
          "model_name": "HTMLModel",
          "model_module_version": "1.5.0",
          "state": {
            "_dom_classes": [],
            "_model_module": "@jupyter-widgets/controls",
            "_model_module_version": "1.5.0",
            "_model_name": "HTMLModel",
            "_view_count": null,
            "_view_module": "@jupyter-widgets/controls",
            "_view_module_version": "1.5.0",
            "_view_name": "HTMLView",
            "description": "",
            "description_tooltip": null,
            "layout": "IPY_MODEL_422ad4ce98124aafa1116cdd9efb2b78",
            "placeholder": "​",
            "style": "IPY_MODEL_e1d4ca8ea79b4b808dddd7e1cb619222",
            "value": " 2/2 [00:27&lt;00:00, 12.01s/ splits]"
          }
        },
        "ef87a1de35df4bbf83f5200935d5b414": {
          "model_module": "@jupyter-widgets/base",
          "model_name": "LayoutModel",
          "model_module_version": "1.2.0",
          "state": {
            "_model_module": "@jupyter-widgets/base",
            "_model_module_version": "1.2.0",
            "_model_name": "LayoutModel",
            "_view_count": null,
            "_view_module": "@jupyter-widgets/base",
            "_view_module_version": "1.2.0",
            "_view_name": "LayoutView",
            "align_content": null,
            "align_items": null,
            "align_self": null,
            "border": null,
            "bottom": null,
            "display": null,
            "flex": null,
            "flex_flow": null,
            "grid_area": null,
            "grid_auto_columns": null,
            "grid_auto_flow": null,
            "grid_auto_rows": null,
            "grid_column": null,
            "grid_gap": null,
            "grid_row": null,
            "grid_template_areas": null,
            "grid_template_columns": null,
            "grid_template_rows": null,
            "height": null,
            "justify_content": null,
            "justify_items": null,
            "left": null,
            "margin": null,
            "max_height": null,
            "max_width": null,
            "min_height": null,
            "min_width": null,
            "object_fit": null,
            "object_position": null,
            "order": null,
            "overflow": null,
            "overflow_x": null,
            "overflow_y": null,
            "padding": null,
            "right": null,
            "top": null,
            "visibility": "hidden",
            "width": null
          }
        },
        "3011130083904c248a1fd97273ba6edb": {
          "model_module": "@jupyter-widgets/base",
          "model_name": "LayoutModel",
          "model_module_version": "1.2.0",
          "state": {
            "_model_module": "@jupyter-widgets/base",
            "_model_module_version": "1.2.0",
            "_model_name": "LayoutModel",
            "_view_count": null,
            "_view_module": "@jupyter-widgets/base",
            "_view_module_version": "1.2.0",
            "_view_name": "LayoutView",
            "align_content": null,
            "align_items": null,
            "align_self": null,
            "border": null,
            "bottom": null,
            "display": null,
            "flex": null,
            "flex_flow": null,
            "grid_area": null,
            "grid_auto_columns": null,
            "grid_auto_flow": null,
            "grid_auto_rows": null,
            "grid_column": null,
            "grid_gap": null,
            "grid_row": null,
            "grid_template_areas": null,
            "grid_template_columns": null,
            "grid_template_rows": null,
            "height": null,
            "justify_content": null,
            "justify_items": null,
            "left": null,
            "margin": null,
            "max_height": null,
            "max_width": null,
            "min_height": null,
            "min_width": null,
            "object_fit": null,
            "object_position": null,
            "order": null,
            "overflow": null,
            "overflow_x": null,
            "overflow_y": null,
            "padding": null,
            "right": null,
            "top": null,
            "visibility": null,
            "width": null
          }
        },
        "b39e94d0009645eaa1cabe0e100d4fa7": {
          "model_module": "@jupyter-widgets/controls",
          "model_name": "DescriptionStyleModel",
          "model_module_version": "1.5.0",
          "state": {
            "_model_module": "@jupyter-widgets/controls",
            "_model_module_version": "1.5.0",
            "_model_name": "DescriptionStyleModel",
            "_view_count": null,
            "_view_module": "@jupyter-widgets/base",
            "_view_module_version": "1.2.0",
            "_view_name": "StyleView",
            "description_width": ""
          }
        },
        "cfb222dd5f3b441b9db89f0f483d9e4a": {
          "model_module": "@jupyter-widgets/base",
          "model_name": "LayoutModel",
          "model_module_version": "1.2.0",
          "state": {
            "_model_module": "@jupyter-widgets/base",
            "_model_module_version": "1.2.0",
            "_model_name": "LayoutModel",
            "_view_count": null,
            "_view_module": "@jupyter-widgets/base",
            "_view_module_version": "1.2.0",
            "_view_name": "LayoutView",
            "align_content": null,
            "align_items": null,
            "align_self": null,
            "border": null,
            "bottom": null,
            "display": null,
            "flex": null,
            "flex_flow": null,
            "grid_area": null,
            "grid_auto_columns": null,
            "grid_auto_flow": null,
            "grid_auto_rows": null,
            "grid_column": null,
            "grid_gap": null,
            "grid_row": null,
            "grid_template_areas": null,
            "grid_template_columns": null,
            "grid_template_rows": null,
            "height": null,
            "justify_content": null,
            "justify_items": null,
            "left": null,
            "margin": null,
            "max_height": null,
            "max_width": null,
            "min_height": null,
            "min_width": null,
            "object_fit": null,
            "object_position": null,
            "order": null,
            "overflow": null,
            "overflow_x": null,
            "overflow_y": null,
            "padding": null,
            "right": null,
            "top": null,
            "visibility": null,
            "width": null
          }
        },
        "e3c80935b90640c19366f0c28aae972d": {
          "model_module": "@jupyter-widgets/controls",
          "model_name": "ProgressStyleModel",
          "model_module_version": "1.5.0",
          "state": {
            "_model_module": "@jupyter-widgets/controls",
            "_model_module_version": "1.5.0",
            "_model_name": "ProgressStyleModel",
            "_view_count": null,
            "_view_module": "@jupyter-widgets/base",
            "_view_module_version": "1.2.0",
            "_view_name": "StyleView",
            "bar_color": null,
            "description_width": ""
          }
        },
        "422ad4ce98124aafa1116cdd9efb2b78": {
          "model_module": "@jupyter-widgets/base",
          "model_name": "LayoutModel",
          "model_module_version": "1.2.0",
          "state": {
            "_model_module": "@jupyter-widgets/base",
            "_model_module_version": "1.2.0",
            "_model_name": "LayoutModel",
            "_view_count": null,
            "_view_module": "@jupyter-widgets/base",
            "_view_module_version": "1.2.0",
            "_view_name": "LayoutView",
            "align_content": null,
            "align_items": null,
            "align_self": null,
            "border": null,
            "bottom": null,
            "display": null,
            "flex": null,
            "flex_flow": null,
            "grid_area": null,
            "grid_auto_columns": null,
            "grid_auto_flow": null,
            "grid_auto_rows": null,
            "grid_column": null,
            "grid_gap": null,
            "grid_row": null,
            "grid_template_areas": null,
            "grid_template_columns": null,
            "grid_template_rows": null,
            "height": null,
            "justify_content": null,
            "justify_items": null,
            "left": null,
            "margin": null,
            "max_height": null,
            "max_width": null,
            "min_height": null,
            "min_width": null,
            "object_fit": null,
            "object_position": null,
            "order": null,
            "overflow": null,
            "overflow_x": null,
            "overflow_y": null,
            "padding": null,
            "right": null,
            "top": null,
            "visibility": null,
            "width": null
          }
        },
        "e1d4ca8ea79b4b808dddd7e1cb619222": {
          "model_module": "@jupyter-widgets/controls",
          "model_name": "DescriptionStyleModel",
          "model_module_version": "1.5.0",
          "state": {
            "_model_module": "@jupyter-widgets/controls",
            "_model_module_version": "1.5.0",
            "_model_name": "DescriptionStyleModel",
            "_view_count": null,
            "_view_module": "@jupyter-widgets/base",
            "_view_module_version": "1.2.0",
            "_view_name": "StyleView",
            "description_width": ""
          }
        },
        "e4f8ba02cae043f4b1a920b021bbf4c2": {
          "model_module": "@jupyter-widgets/controls",
          "model_name": "HBoxModel",
          "model_module_version": "1.5.0",
          "state": {
            "_dom_classes": [],
            "_model_module": "@jupyter-widgets/controls",
            "_model_module_version": "1.5.0",
            "_model_name": "HBoxModel",
            "_view_count": null,
            "_view_module": "@jupyter-widgets/controls",
            "_view_module_version": "1.5.0",
            "_view_name": "HBoxView",
            "box_style": "",
            "children": [
              "IPY_MODEL_412f68d391264a039912536600ae8b97",
              "IPY_MODEL_e4b22c16cf814eacac183cca823079a5",
              "IPY_MODEL_5bf657a75d2545159c164b60fed1ae4f"
            ],
            "layout": "IPY_MODEL_409a077a7f404e668167d9c6843ef0c0"
          }
        },
        "412f68d391264a039912536600ae8b97": {
          "model_module": "@jupyter-widgets/controls",
          "model_name": "HTMLModel",
          "model_module_version": "1.5.0",
          "state": {
            "_dom_classes": [],
            "_model_module": "@jupyter-widgets/controls",
            "_model_module_version": "1.5.0",
            "_model_name": "HTMLModel",
            "_view_count": null,
            "_view_module": "@jupyter-widgets/controls",
            "_view_module_version": "1.5.0",
            "_view_name": "HTMLView",
            "description": "",
            "description_tooltip": null,
            "layout": "IPY_MODEL_1448bad4d93140edad435b1313366144",
            "placeholder": "​",
            "style": "IPY_MODEL_883d7bbb14b84c13b6fcbcc8eb8c2320",
            "value": "Generating train examples...: 100%"
          }
        },
        "e4b22c16cf814eacac183cca823079a5": {
          "model_module": "@jupyter-widgets/controls",
          "model_name": "FloatProgressModel",
          "model_module_version": "1.5.0",
          "state": {
            "_dom_classes": [],
            "_model_module": "@jupyter-widgets/controls",
            "_model_module_version": "1.5.0",
            "_model_name": "FloatProgressModel",
            "_view_count": null,
            "_view_module": "@jupyter-widgets/controls",
            "_view_module_version": "1.5.0",
            "_view_name": "ProgressView",
            "bar_style": "",
            "description": "",
            "description_tooltip": null,
            "layout": "IPY_MODEL_bbea43bd3c4f403d970c699ff5f8d017",
            "max": 60000,
            "min": 0,
            "orientation": "horizontal",
            "style": "IPY_MODEL_56eebd96d9294ff5a9520886e3ca678a",
            "value": 60000
          }
        },
        "5bf657a75d2545159c164b60fed1ae4f": {
          "model_module": "@jupyter-widgets/controls",
          "model_name": "HTMLModel",
          "model_module_version": "1.5.0",
          "state": {
            "_dom_classes": [],
            "_model_module": "@jupyter-widgets/controls",
            "_model_module_version": "1.5.0",
            "_model_name": "HTMLModel",
            "_view_count": null,
            "_view_module": "@jupyter-widgets/controls",
            "_view_module_version": "1.5.0",
            "_view_name": "HTMLView",
            "description": "",
            "description_tooltip": null,
            "layout": "IPY_MODEL_3826abce0ed74f4f96162d21323b9422",
            "placeholder": "​",
            "style": "IPY_MODEL_a539437b98d4432bbf151acfaa5ce1a7",
            "value": " 59963/60000 [00:22&lt;00:00, 2582.34 examples/s]"
          }
        },
        "409a077a7f404e668167d9c6843ef0c0": {
          "model_module": "@jupyter-widgets/base",
          "model_name": "LayoutModel",
          "model_module_version": "1.2.0",
          "state": {
            "_model_module": "@jupyter-widgets/base",
            "_model_module_version": "1.2.0",
            "_model_name": "LayoutModel",
            "_view_count": null,
            "_view_module": "@jupyter-widgets/base",
            "_view_module_version": "1.2.0",
            "_view_name": "LayoutView",
            "align_content": null,
            "align_items": null,
            "align_self": null,
            "border": null,
            "bottom": null,
            "display": null,
            "flex": null,
            "flex_flow": null,
            "grid_area": null,
            "grid_auto_columns": null,
            "grid_auto_flow": null,
            "grid_auto_rows": null,
            "grid_column": null,
            "grid_gap": null,
            "grid_row": null,
            "grid_template_areas": null,
            "grid_template_columns": null,
            "grid_template_rows": null,
            "height": null,
            "justify_content": null,
            "justify_items": null,
            "left": null,
            "margin": null,
            "max_height": null,
            "max_width": null,
            "min_height": null,
            "min_width": null,
            "object_fit": null,
            "object_position": null,
            "order": null,
            "overflow": null,
            "overflow_x": null,
            "overflow_y": null,
            "padding": null,
            "right": null,
            "top": null,
            "visibility": "hidden",
            "width": null
          }
        },
        "1448bad4d93140edad435b1313366144": {
          "model_module": "@jupyter-widgets/base",
          "model_name": "LayoutModel",
          "model_module_version": "1.2.0",
          "state": {
            "_model_module": "@jupyter-widgets/base",
            "_model_module_version": "1.2.0",
            "_model_name": "LayoutModel",
            "_view_count": null,
            "_view_module": "@jupyter-widgets/base",
            "_view_module_version": "1.2.0",
            "_view_name": "LayoutView",
            "align_content": null,
            "align_items": null,
            "align_self": null,
            "border": null,
            "bottom": null,
            "display": null,
            "flex": null,
            "flex_flow": null,
            "grid_area": null,
            "grid_auto_columns": null,
            "grid_auto_flow": null,
            "grid_auto_rows": null,
            "grid_column": null,
            "grid_gap": null,
            "grid_row": null,
            "grid_template_areas": null,
            "grid_template_columns": null,
            "grid_template_rows": null,
            "height": null,
            "justify_content": null,
            "justify_items": null,
            "left": null,
            "margin": null,
            "max_height": null,
            "max_width": null,
            "min_height": null,
            "min_width": null,
            "object_fit": null,
            "object_position": null,
            "order": null,
            "overflow": null,
            "overflow_x": null,
            "overflow_y": null,
            "padding": null,
            "right": null,
            "top": null,
            "visibility": null,
            "width": null
          }
        },
        "883d7bbb14b84c13b6fcbcc8eb8c2320": {
          "model_module": "@jupyter-widgets/controls",
          "model_name": "DescriptionStyleModel",
          "model_module_version": "1.5.0",
          "state": {
            "_model_module": "@jupyter-widgets/controls",
            "_model_module_version": "1.5.0",
            "_model_name": "DescriptionStyleModel",
            "_view_count": null,
            "_view_module": "@jupyter-widgets/base",
            "_view_module_version": "1.2.0",
            "_view_name": "StyleView",
            "description_width": ""
          }
        },
        "bbea43bd3c4f403d970c699ff5f8d017": {
          "model_module": "@jupyter-widgets/base",
          "model_name": "LayoutModel",
          "model_module_version": "1.2.0",
          "state": {
            "_model_module": "@jupyter-widgets/base",
            "_model_module_version": "1.2.0",
            "_model_name": "LayoutModel",
            "_view_count": null,
            "_view_module": "@jupyter-widgets/base",
            "_view_module_version": "1.2.0",
            "_view_name": "LayoutView",
            "align_content": null,
            "align_items": null,
            "align_self": null,
            "border": null,
            "bottom": null,
            "display": null,
            "flex": null,
            "flex_flow": null,
            "grid_area": null,
            "grid_auto_columns": null,
            "grid_auto_flow": null,
            "grid_auto_rows": null,
            "grid_column": null,
            "grid_gap": null,
            "grid_row": null,
            "grid_template_areas": null,
            "grid_template_columns": null,
            "grid_template_rows": null,
            "height": null,
            "justify_content": null,
            "justify_items": null,
            "left": null,
            "margin": null,
            "max_height": null,
            "max_width": null,
            "min_height": null,
            "min_width": null,
            "object_fit": null,
            "object_position": null,
            "order": null,
            "overflow": null,
            "overflow_x": null,
            "overflow_y": null,
            "padding": null,
            "right": null,
            "top": null,
            "visibility": null,
            "width": null
          }
        },
        "56eebd96d9294ff5a9520886e3ca678a": {
          "model_module": "@jupyter-widgets/controls",
          "model_name": "ProgressStyleModel",
          "model_module_version": "1.5.0",
          "state": {
            "_model_module": "@jupyter-widgets/controls",
            "_model_module_version": "1.5.0",
            "_model_name": "ProgressStyleModel",
            "_view_count": null,
            "_view_module": "@jupyter-widgets/base",
            "_view_module_version": "1.2.0",
            "_view_name": "StyleView",
            "bar_color": null,
            "description_width": ""
          }
        },
        "3826abce0ed74f4f96162d21323b9422": {
          "model_module": "@jupyter-widgets/base",
          "model_name": "LayoutModel",
          "model_module_version": "1.2.0",
          "state": {
            "_model_module": "@jupyter-widgets/base",
            "_model_module_version": "1.2.0",
            "_model_name": "LayoutModel",
            "_view_count": null,
            "_view_module": "@jupyter-widgets/base",
            "_view_module_version": "1.2.0",
            "_view_name": "LayoutView",
            "align_content": null,
            "align_items": null,
            "align_self": null,
            "border": null,
            "bottom": null,
            "display": null,
            "flex": null,
            "flex_flow": null,
            "grid_area": null,
            "grid_auto_columns": null,
            "grid_auto_flow": null,
            "grid_auto_rows": null,
            "grid_column": null,
            "grid_gap": null,
            "grid_row": null,
            "grid_template_areas": null,
            "grid_template_columns": null,
            "grid_template_rows": null,
            "height": null,
            "justify_content": null,
            "justify_items": null,
            "left": null,
            "margin": null,
            "max_height": null,
            "max_width": null,
            "min_height": null,
            "min_width": null,
            "object_fit": null,
            "object_position": null,
            "order": null,
            "overflow": null,
            "overflow_x": null,
            "overflow_y": null,
            "padding": null,
            "right": null,
            "top": null,
            "visibility": null,
            "width": null
          }
        },
        "a539437b98d4432bbf151acfaa5ce1a7": {
          "model_module": "@jupyter-widgets/controls",
          "model_name": "DescriptionStyleModel",
          "model_module_version": "1.5.0",
          "state": {
            "_model_module": "@jupyter-widgets/controls",
            "_model_module_version": "1.5.0",
            "_model_name": "DescriptionStyleModel",
            "_view_count": null,
            "_view_module": "@jupyter-widgets/base",
            "_view_module_version": "1.2.0",
            "_view_name": "StyleView",
            "description_width": ""
          }
        },
        "1967e3bd6239424587d13bc14b0d8bad": {
          "model_module": "@jupyter-widgets/controls",
          "model_name": "HBoxModel",
          "model_module_version": "1.5.0",
          "state": {
            "_dom_classes": [],
            "_model_module": "@jupyter-widgets/controls",
            "_model_module_version": "1.5.0",
            "_model_name": "HBoxModel",
            "_view_count": null,
            "_view_module": "@jupyter-widgets/controls",
            "_view_module_version": "1.5.0",
            "_view_name": "HBoxView",
            "box_style": "",
            "children": [
              "IPY_MODEL_32f3421dca174032a52a42b64e09763d",
              "IPY_MODEL_22bb479229614e89a5c0c3b62744e097",
              "IPY_MODEL_910b82a747b04e84af62f2d59ec7685c"
            ],
            "layout": "IPY_MODEL_f6985e0837a94c89a6572fa4a2776d59"
          }
        },
        "32f3421dca174032a52a42b64e09763d": {
          "model_module": "@jupyter-widgets/controls",
          "model_name": "HTMLModel",
          "model_module_version": "1.5.0",
          "state": {
            "_dom_classes": [],
            "_model_module": "@jupyter-widgets/controls",
            "_model_module_version": "1.5.0",
            "_model_name": "HTMLModel",
            "_view_count": null,
            "_view_module": "@jupyter-widgets/controls",
            "_view_module_version": "1.5.0",
            "_view_name": "HTMLView",
            "description": "",
            "description_tooltip": null,
            "layout": "IPY_MODEL_94c57714d49842fda8227578cded0166",
            "placeholder": "​",
            "style": "IPY_MODEL_8673e7d0dab74986a949650310cd7e26",
            "value": "Shuffling ~/tensorflow_datasets/fashion_mnist/3.0.1.incomplete505JHH/fashion_mnist-train.tfrecord*...:  92%"
          }
        },
        "22bb479229614e89a5c0c3b62744e097": {
          "model_module": "@jupyter-widgets/controls",
          "model_name": "FloatProgressModel",
          "model_module_version": "1.5.0",
          "state": {
            "_dom_classes": [],
            "_model_module": "@jupyter-widgets/controls",
            "_model_module_version": "1.5.0",
            "_model_name": "FloatProgressModel",
            "_view_count": null,
            "_view_module": "@jupyter-widgets/controls",
            "_view_module_version": "1.5.0",
            "_view_name": "ProgressView",
            "bar_style": "",
            "description": "",
            "description_tooltip": null,
            "layout": "IPY_MODEL_358267d7a8fe44f1878ea12b801abea5",
            "max": 60000,
            "min": 0,
            "orientation": "horizontal",
            "style": "IPY_MODEL_56e660901aca432fac0bd7db73fbe487",
            "value": 60000
          }
        },
        "910b82a747b04e84af62f2d59ec7685c": {
          "model_module": "@jupyter-widgets/controls",
          "model_name": "HTMLModel",
          "model_module_version": "1.5.0",
          "state": {
            "_dom_classes": [],
            "_model_module": "@jupyter-widgets/controls",
            "_model_module_version": "1.5.0",
            "_model_name": "HTMLModel",
            "_view_count": null,
            "_view_module": "@jupyter-widgets/controls",
            "_view_module_version": "1.5.0",
            "_view_name": "HTMLView",
            "description": "",
            "description_tooltip": null,
            "layout": "IPY_MODEL_0cc1fd177f89431baaf95a7db4b85ed6",
            "placeholder": "​",
            "style": "IPY_MODEL_6ac5fcf9bfbf4cc79069573cbeaf3532",
            "value": " 54983/60000 [00:00&lt;00:00, 188805.36 examples/s]"
          }
        },
        "f6985e0837a94c89a6572fa4a2776d59": {
          "model_module": "@jupyter-widgets/base",
          "model_name": "LayoutModel",
          "model_module_version": "1.2.0",
          "state": {
            "_model_module": "@jupyter-widgets/base",
            "_model_module_version": "1.2.0",
            "_model_name": "LayoutModel",
            "_view_count": null,
            "_view_module": "@jupyter-widgets/base",
            "_view_module_version": "1.2.0",
            "_view_name": "LayoutView",
            "align_content": null,
            "align_items": null,
            "align_self": null,
            "border": null,
            "bottom": null,
            "display": null,
            "flex": null,
            "flex_flow": null,
            "grid_area": null,
            "grid_auto_columns": null,
            "grid_auto_flow": null,
            "grid_auto_rows": null,
            "grid_column": null,
            "grid_gap": null,
            "grid_row": null,
            "grid_template_areas": null,
            "grid_template_columns": null,
            "grid_template_rows": null,
            "height": null,
            "justify_content": null,
            "justify_items": null,
            "left": null,
            "margin": null,
            "max_height": null,
            "max_width": null,
            "min_height": null,
            "min_width": null,
            "object_fit": null,
            "object_position": null,
            "order": null,
            "overflow": null,
            "overflow_x": null,
            "overflow_y": null,
            "padding": null,
            "right": null,
            "top": null,
            "visibility": "hidden",
            "width": null
          }
        },
        "94c57714d49842fda8227578cded0166": {
          "model_module": "@jupyter-widgets/base",
          "model_name": "LayoutModel",
          "model_module_version": "1.2.0",
          "state": {
            "_model_module": "@jupyter-widgets/base",
            "_model_module_version": "1.2.0",
            "_model_name": "LayoutModel",
            "_view_count": null,
            "_view_module": "@jupyter-widgets/base",
            "_view_module_version": "1.2.0",
            "_view_name": "LayoutView",
            "align_content": null,
            "align_items": null,
            "align_self": null,
            "border": null,
            "bottom": null,
            "display": null,
            "flex": null,
            "flex_flow": null,
            "grid_area": null,
            "grid_auto_columns": null,
            "grid_auto_flow": null,
            "grid_auto_rows": null,
            "grid_column": null,
            "grid_gap": null,
            "grid_row": null,
            "grid_template_areas": null,
            "grid_template_columns": null,
            "grid_template_rows": null,
            "height": null,
            "justify_content": null,
            "justify_items": null,
            "left": null,
            "margin": null,
            "max_height": null,
            "max_width": null,
            "min_height": null,
            "min_width": null,
            "object_fit": null,
            "object_position": null,
            "order": null,
            "overflow": null,
            "overflow_x": null,
            "overflow_y": null,
            "padding": null,
            "right": null,
            "top": null,
            "visibility": null,
            "width": null
          }
        },
        "8673e7d0dab74986a949650310cd7e26": {
          "model_module": "@jupyter-widgets/controls",
          "model_name": "DescriptionStyleModel",
          "model_module_version": "1.5.0",
          "state": {
            "_model_module": "@jupyter-widgets/controls",
            "_model_module_version": "1.5.0",
            "_model_name": "DescriptionStyleModel",
            "_view_count": null,
            "_view_module": "@jupyter-widgets/base",
            "_view_module_version": "1.2.0",
            "_view_name": "StyleView",
            "description_width": ""
          }
        },
        "358267d7a8fe44f1878ea12b801abea5": {
          "model_module": "@jupyter-widgets/base",
          "model_name": "LayoutModel",
          "model_module_version": "1.2.0",
          "state": {
            "_model_module": "@jupyter-widgets/base",
            "_model_module_version": "1.2.0",
            "_model_name": "LayoutModel",
            "_view_count": null,
            "_view_module": "@jupyter-widgets/base",
            "_view_module_version": "1.2.0",
            "_view_name": "LayoutView",
            "align_content": null,
            "align_items": null,
            "align_self": null,
            "border": null,
            "bottom": null,
            "display": null,
            "flex": null,
            "flex_flow": null,
            "grid_area": null,
            "grid_auto_columns": null,
            "grid_auto_flow": null,
            "grid_auto_rows": null,
            "grid_column": null,
            "grid_gap": null,
            "grid_row": null,
            "grid_template_areas": null,
            "grid_template_columns": null,
            "grid_template_rows": null,
            "height": null,
            "justify_content": null,
            "justify_items": null,
            "left": null,
            "margin": null,
            "max_height": null,
            "max_width": null,
            "min_height": null,
            "min_width": null,
            "object_fit": null,
            "object_position": null,
            "order": null,
            "overflow": null,
            "overflow_x": null,
            "overflow_y": null,
            "padding": null,
            "right": null,
            "top": null,
            "visibility": null,
            "width": null
          }
        },
        "56e660901aca432fac0bd7db73fbe487": {
          "model_module": "@jupyter-widgets/controls",
          "model_name": "ProgressStyleModel",
          "model_module_version": "1.5.0",
          "state": {
            "_model_module": "@jupyter-widgets/controls",
            "_model_module_version": "1.5.0",
            "_model_name": "ProgressStyleModel",
            "_view_count": null,
            "_view_module": "@jupyter-widgets/base",
            "_view_module_version": "1.2.0",
            "_view_name": "StyleView",
            "bar_color": null,
            "description_width": ""
          }
        },
        "0cc1fd177f89431baaf95a7db4b85ed6": {
          "model_module": "@jupyter-widgets/base",
          "model_name": "LayoutModel",
          "model_module_version": "1.2.0",
          "state": {
            "_model_module": "@jupyter-widgets/base",
            "_model_module_version": "1.2.0",
            "_model_name": "LayoutModel",
            "_view_count": null,
            "_view_module": "@jupyter-widgets/base",
            "_view_module_version": "1.2.0",
            "_view_name": "LayoutView",
            "align_content": null,
            "align_items": null,
            "align_self": null,
            "border": null,
            "bottom": null,
            "display": null,
            "flex": null,
            "flex_flow": null,
            "grid_area": null,
            "grid_auto_columns": null,
            "grid_auto_flow": null,
            "grid_auto_rows": null,
            "grid_column": null,
            "grid_gap": null,
            "grid_row": null,
            "grid_template_areas": null,
            "grid_template_columns": null,
            "grid_template_rows": null,
            "height": null,
            "justify_content": null,
            "justify_items": null,
            "left": null,
            "margin": null,
            "max_height": null,
            "max_width": null,
            "min_height": null,
            "min_width": null,
            "object_fit": null,
            "object_position": null,
            "order": null,
            "overflow": null,
            "overflow_x": null,
            "overflow_y": null,
            "padding": null,
            "right": null,
            "top": null,
            "visibility": null,
            "width": null
          }
        },
        "6ac5fcf9bfbf4cc79069573cbeaf3532": {
          "model_module": "@jupyter-widgets/controls",
          "model_name": "DescriptionStyleModel",
          "model_module_version": "1.5.0",
          "state": {
            "_model_module": "@jupyter-widgets/controls",
            "_model_module_version": "1.5.0",
            "_model_name": "DescriptionStyleModel",
            "_view_count": null,
            "_view_module": "@jupyter-widgets/base",
            "_view_module_version": "1.2.0",
            "_view_name": "StyleView",
            "description_width": ""
          }
        },
        "93b4ac12f34348a2abd5274e9a5439eb": {
          "model_module": "@jupyter-widgets/controls",
          "model_name": "HBoxModel",
          "model_module_version": "1.5.0",
          "state": {
            "_dom_classes": [],
            "_model_module": "@jupyter-widgets/controls",
            "_model_module_version": "1.5.0",
            "_model_name": "HBoxModel",
            "_view_count": null,
            "_view_module": "@jupyter-widgets/controls",
            "_view_module_version": "1.5.0",
            "_view_name": "HBoxView",
            "box_style": "",
            "children": [
              "IPY_MODEL_8ac89d01070e4193b77beb49afca40d7",
              "IPY_MODEL_1e4cae625a6345c1a1c7958a3435a0cb",
              "IPY_MODEL_cdd5e5079e044b06abaf1565ebc0ec88"
            ],
            "layout": "IPY_MODEL_3880bbd183a34b1f8828e27c4b4bc0a2"
          }
        },
        "8ac89d01070e4193b77beb49afca40d7": {
          "model_module": "@jupyter-widgets/controls",
          "model_name": "HTMLModel",
          "model_module_version": "1.5.0",
          "state": {
            "_dom_classes": [],
            "_model_module": "@jupyter-widgets/controls",
            "_model_module_version": "1.5.0",
            "_model_name": "HTMLModel",
            "_view_count": null,
            "_view_module": "@jupyter-widgets/controls",
            "_view_module_version": "1.5.0",
            "_view_name": "HTMLView",
            "description": "",
            "description_tooltip": null,
            "layout": "IPY_MODEL_6cb507f7d33e4fbbbd6c6aabc02629c5",
            "placeholder": "​",
            "style": "IPY_MODEL_577b9bc54688437da80182c00a921fec",
            "value": "Generating test examples...:  98%"
          }
        },
        "1e4cae625a6345c1a1c7958a3435a0cb": {
          "model_module": "@jupyter-widgets/controls",
          "model_name": "FloatProgressModel",
          "model_module_version": "1.5.0",
          "state": {
            "_dom_classes": [],
            "_model_module": "@jupyter-widgets/controls",
            "_model_module_version": "1.5.0",
            "_model_name": "FloatProgressModel",
            "_view_count": null,
            "_view_module": "@jupyter-widgets/controls",
            "_view_module_version": "1.5.0",
            "_view_name": "ProgressView",
            "bar_style": "",
            "description": "",
            "description_tooltip": null,
            "layout": "IPY_MODEL_b217c1005dfe4d41a8641b3d1bdc9bbd",
            "max": 10000,
            "min": 0,
            "orientation": "horizontal",
            "style": "IPY_MODEL_1ec4a8127f3a4dd58c6cc2a09db659f7",
            "value": 10000
          }
        },
        "cdd5e5079e044b06abaf1565ebc0ec88": {
          "model_module": "@jupyter-widgets/controls",
          "model_name": "HTMLModel",
          "model_module_version": "1.5.0",
          "state": {
            "_dom_classes": [],
            "_model_module": "@jupyter-widgets/controls",
            "_model_module_version": "1.5.0",
            "_model_name": "HTMLModel",
            "_view_count": null,
            "_view_module": "@jupyter-widgets/controls",
            "_view_module_version": "1.5.0",
            "_view_name": "HTMLView",
            "description": "",
            "description_tooltip": null,
            "layout": "IPY_MODEL_e6e9e5d8ba6347edb36a02b44a0d4e2f",
            "placeholder": "​",
            "style": "IPY_MODEL_c7a5c4997bdc41468ac83406df980a62",
            "value": " 9834/10000 [00:03&lt;00:00, 2607.09 examples/s]"
          }
        },
        "3880bbd183a34b1f8828e27c4b4bc0a2": {
          "model_module": "@jupyter-widgets/base",
          "model_name": "LayoutModel",
          "model_module_version": "1.2.0",
          "state": {
            "_model_module": "@jupyter-widgets/base",
            "_model_module_version": "1.2.0",
            "_model_name": "LayoutModel",
            "_view_count": null,
            "_view_module": "@jupyter-widgets/base",
            "_view_module_version": "1.2.0",
            "_view_name": "LayoutView",
            "align_content": null,
            "align_items": null,
            "align_self": null,
            "border": null,
            "bottom": null,
            "display": null,
            "flex": null,
            "flex_flow": null,
            "grid_area": null,
            "grid_auto_columns": null,
            "grid_auto_flow": null,
            "grid_auto_rows": null,
            "grid_column": null,
            "grid_gap": null,
            "grid_row": null,
            "grid_template_areas": null,
            "grid_template_columns": null,
            "grid_template_rows": null,
            "height": null,
            "justify_content": null,
            "justify_items": null,
            "left": null,
            "margin": null,
            "max_height": null,
            "max_width": null,
            "min_height": null,
            "min_width": null,
            "object_fit": null,
            "object_position": null,
            "order": null,
            "overflow": null,
            "overflow_x": null,
            "overflow_y": null,
            "padding": null,
            "right": null,
            "top": null,
            "visibility": "hidden",
            "width": null
          }
        },
        "6cb507f7d33e4fbbbd6c6aabc02629c5": {
          "model_module": "@jupyter-widgets/base",
          "model_name": "LayoutModel",
          "model_module_version": "1.2.0",
          "state": {
            "_model_module": "@jupyter-widgets/base",
            "_model_module_version": "1.2.0",
            "_model_name": "LayoutModel",
            "_view_count": null,
            "_view_module": "@jupyter-widgets/base",
            "_view_module_version": "1.2.0",
            "_view_name": "LayoutView",
            "align_content": null,
            "align_items": null,
            "align_self": null,
            "border": null,
            "bottom": null,
            "display": null,
            "flex": null,
            "flex_flow": null,
            "grid_area": null,
            "grid_auto_columns": null,
            "grid_auto_flow": null,
            "grid_auto_rows": null,
            "grid_column": null,
            "grid_gap": null,
            "grid_row": null,
            "grid_template_areas": null,
            "grid_template_columns": null,
            "grid_template_rows": null,
            "height": null,
            "justify_content": null,
            "justify_items": null,
            "left": null,
            "margin": null,
            "max_height": null,
            "max_width": null,
            "min_height": null,
            "min_width": null,
            "object_fit": null,
            "object_position": null,
            "order": null,
            "overflow": null,
            "overflow_x": null,
            "overflow_y": null,
            "padding": null,
            "right": null,
            "top": null,
            "visibility": null,
            "width": null
          }
        },
        "577b9bc54688437da80182c00a921fec": {
          "model_module": "@jupyter-widgets/controls",
          "model_name": "DescriptionStyleModel",
          "model_module_version": "1.5.0",
          "state": {
            "_model_module": "@jupyter-widgets/controls",
            "_model_module_version": "1.5.0",
            "_model_name": "DescriptionStyleModel",
            "_view_count": null,
            "_view_module": "@jupyter-widgets/base",
            "_view_module_version": "1.2.0",
            "_view_name": "StyleView",
            "description_width": ""
          }
        },
        "b217c1005dfe4d41a8641b3d1bdc9bbd": {
          "model_module": "@jupyter-widgets/base",
          "model_name": "LayoutModel",
          "model_module_version": "1.2.0",
          "state": {
            "_model_module": "@jupyter-widgets/base",
            "_model_module_version": "1.2.0",
            "_model_name": "LayoutModel",
            "_view_count": null,
            "_view_module": "@jupyter-widgets/base",
            "_view_module_version": "1.2.0",
            "_view_name": "LayoutView",
            "align_content": null,
            "align_items": null,
            "align_self": null,
            "border": null,
            "bottom": null,
            "display": null,
            "flex": null,
            "flex_flow": null,
            "grid_area": null,
            "grid_auto_columns": null,
            "grid_auto_flow": null,
            "grid_auto_rows": null,
            "grid_column": null,
            "grid_gap": null,
            "grid_row": null,
            "grid_template_areas": null,
            "grid_template_columns": null,
            "grid_template_rows": null,
            "height": null,
            "justify_content": null,
            "justify_items": null,
            "left": null,
            "margin": null,
            "max_height": null,
            "max_width": null,
            "min_height": null,
            "min_width": null,
            "object_fit": null,
            "object_position": null,
            "order": null,
            "overflow": null,
            "overflow_x": null,
            "overflow_y": null,
            "padding": null,
            "right": null,
            "top": null,
            "visibility": null,
            "width": null
          }
        },
        "1ec4a8127f3a4dd58c6cc2a09db659f7": {
          "model_module": "@jupyter-widgets/controls",
          "model_name": "ProgressStyleModel",
          "model_module_version": "1.5.0",
          "state": {
            "_model_module": "@jupyter-widgets/controls",
            "_model_module_version": "1.5.0",
            "_model_name": "ProgressStyleModel",
            "_view_count": null,
            "_view_module": "@jupyter-widgets/base",
            "_view_module_version": "1.2.0",
            "_view_name": "StyleView",
            "bar_color": null,
            "description_width": ""
          }
        },
        "e6e9e5d8ba6347edb36a02b44a0d4e2f": {
          "model_module": "@jupyter-widgets/base",
          "model_name": "LayoutModel",
          "model_module_version": "1.2.0",
          "state": {
            "_model_module": "@jupyter-widgets/base",
            "_model_module_version": "1.2.0",
            "_model_name": "LayoutModel",
            "_view_count": null,
            "_view_module": "@jupyter-widgets/base",
            "_view_module_version": "1.2.0",
            "_view_name": "LayoutView",
            "align_content": null,
            "align_items": null,
            "align_self": null,
            "border": null,
            "bottom": null,
            "display": null,
            "flex": null,
            "flex_flow": null,
            "grid_area": null,
            "grid_auto_columns": null,
            "grid_auto_flow": null,
            "grid_auto_rows": null,
            "grid_column": null,
            "grid_gap": null,
            "grid_row": null,
            "grid_template_areas": null,
            "grid_template_columns": null,
            "grid_template_rows": null,
            "height": null,
            "justify_content": null,
            "justify_items": null,
            "left": null,
            "margin": null,
            "max_height": null,
            "max_width": null,
            "min_height": null,
            "min_width": null,
            "object_fit": null,
            "object_position": null,
            "order": null,
            "overflow": null,
            "overflow_x": null,
            "overflow_y": null,
            "padding": null,
            "right": null,
            "top": null,
            "visibility": null,
            "width": null
          }
        },
        "c7a5c4997bdc41468ac83406df980a62": {
          "model_module": "@jupyter-widgets/controls",
          "model_name": "DescriptionStyleModel",
          "model_module_version": "1.5.0",
          "state": {
            "_model_module": "@jupyter-widgets/controls",
            "_model_module_version": "1.5.0",
            "_model_name": "DescriptionStyleModel",
            "_view_count": null,
            "_view_module": "@jupyter-widgets/base",
            "_view_module_version": "1.2.0",
            "_view_name": "StyleView",
            "description_width": ""
          }
        },
        "8d07f9db27d34a8babf9b83b1e8e4c15": {
          "model_module": "@jupyter-widgets/controls",
          "model_name": "HBoxModel",
          "model_module_version": "1.5.0",
          "state": {
            "_dom_classes": [],
            "_model_module": "@jupyter-widgets/controls",
            "_model_module_version": "1.5.0",
            "_model_name": "HBoxModel",
            "_view_count": null,
            "_view_module": "@jupyter-widgets/controls",
            "_view_module_version": "1.5.0",
            "_view_name": "HBoxView",
            "box_style": "",
            "children": [
              "IPY_MODEL_7c35f0b8ca1142ee8998eab1f07b95d5",
              "IPY_MODEL_ef54e22545bc46489a8f36399d31c833",
              "IPY_MODEL_26b96e0464e748929196a580b2da1d95"
            ],
            "layout": "IPY_MODEL_e27538094ce043e2a2a18a13dbe76ff7"
          }
        },
        "7c35f0b8ca1142ee8998eab1f07b95d5": {
          "model_module": "@jupyter-widgets/controls",
          "model_name": "HTMLModel",
          "model_module_version": "1.5.0",
          "state": {
            "_dom_classes": [],
            "_model_module": "@jupyter-widgets/controls",
            "_model_module_version": "1.5.0",
            "_model_name": "HTMLModel",
            "_view_count": null,
            "_view_module": "@jupyter-widgets/controls",
            "_view_module_version": "1.5.0",
            "_view_name": "HTMLView",
            "description": "",
            "description_tooltip": null,
            "layout": "IPY_MODEL_0311149ebfa74f848f82c367d6fb4338",
            "placeholder": "​",
            "style": "IPY_MODEL_9008ae672aad4963be434832a7a0db27",
            "value": "Shuffling ~/tensorflow_datasets/fashion_mnist/3.0.1.incomplete505JHH/fashion_mnist-test.tfrecord*...:  43%"
          }
        },
        "ef54e22545bc46489a8f36399d31c833": {
          "model_module": "@jupyter-widgets/controls",
          "model_name": "FloatProgressModel",
          "model_module_version": "1.5.0",
          "state": {
            "_dom_classes": [],
            "_model_module": "@jupyter-widgets/controls",
            "_model_module_version": "1.5.0",
            "_model_name": "FloatProgressModel",
            "_view_count": null,
            "_view_module": "@jupyter-widgets/controls",
            "_view_module_version": "1.5.0",
            "_view_name": "ProgressView",
            "bar_style": "",
            "description": "",
            "description_tooltip": null,
            "layout": "IPY_MODEL_fcf0e48c89b145dd92c71562160d34cb",
            "max": 10000,
            "min": 0,
            "orientation": "horizontal",
            "style": "IPY_MODEL_e54afe8261404413a8fbb6362b5cc899",
            "value": 10000
          }
        },
        "26b96e0464e748929196a580b2da1d95": {
          "model_module": "@jupyter-widgets/controls",
          "model_name": "HTMLModel",
          "model_module_version": "1.5.0",
          "state": {
            "_dom_classes": [],
            "_model_module": "@jupyter-widgets/controls",
            "_model_module_version": "1.5.0",
            "_model_name": "HTMLModel",
            "_view_count": null,
            "_view_module": "@jupyter-widgets/controls",
            "_view_module_version": "1.5.0",
            "_view_name": "HTMLView",
            "description": "",
            "description_tooltip": null,
            "layout": "IPY_MODEL_4c9706eb399e445fabfe293f6a369060",
            "placeholder": "​",
            "style": "IPY_MODEL_35177aa3a8c34094a99a1304bee99d8c",
            "value": " 4285/10000 [00:00&lt;00:00, 42842.18 examples/s]"
          }
        },
        "e27538094ce043e2a2a18a13dbe76ff7": {
          "model_module": "@jupyter-widgets/base",
          "model_name": "LayoutModel",
          "model_module_version": "1.2.0",
          "state": {
            "_model_module": "@jupyter-widgets/base",
            "_model_module_version": "1.2.0",
            "_model_name": "LayoutModel",
            "_view_count": null,
            "_view_module": "@jupyter-widgets/base",
            "_view_module_version": "1.2.0",
            "_view_name": "LayoutView",
            "align_content": null,
            "align_items": null,
            "align_self": null,
            "border": null,
            "bottom": null,
            "display": null,
            "flex": null,
            "flex_flow": null,
            "grid_area": null,
            "grid_auto_columns": null,
            "grid_auto_flow": null,
            "grid_auto_rows": null,
            "grid_column": null,
            "grid_gap": null,
            "grid_row": null,
            "grid_template_areas": null,
            "grid_template_columns": null,
            "grid_template_rows": null,
            "height": null,
            "justify_content": null,
            "justify_items": null,
            "left": null,
            "margin": null,
            "max_height": null,
            "max_width": null,
            "min_height": null,
            "min_width": null,
            "object_fit": null,
            "object_position": null,
            "order": null,
            "overflow": null,
            "overflow_x": null,
            "overflow_y": null,
            "padding": null,
            "right": null,
            "top": null,
            "visibility": "hidden",
            "width": null
          }
        },
        "0311149ebfa74f848f82c367d6fb4338": {
          "model_module": "@jupyter-widgets/base",
          "model_name": "LayoutModel",
          "model_module_version": "1.2.0",
          "state": {
            "_model_module": "@jupyter-widgets/base",
            "_model_module_version": "1.2.0",
            "_model_name": "LayoutModel",
            "_view_count": null,
            "_view_module": "@jupyter-widgets/base",
            "_view_module_version": "1.2.0",
            "_view_name": "LayoutView",
            "align_content": null,
            "align_items": null,
            "align_self": null,
            "border": null,
            "bottom": null,
            "display": null,
            "flex": null,
            "flex_flow": null,
            "grid_area": null,
            "grid_auto_columns": null,
            "grid_auto_flow": null,
            "grid_auto_rows": null,
            "grid_column": null,
            "grid_gap": null,
            "grid_row": null,
            "grid_template_areas": null,
            "grid_template_columns": null,
            "grid_template_rows": null,
            "height": null,
            "justify_content": null,
            "justify_items": null,
            "left": null,
            "margin": null,
            "max_height": null,
            "max_width": null,
            "min_height": null,
            "min_width": null,
            "object_fit": null,
            "object_position": null,
            "order": null,
            "overflow": null,
            "overflow_x": null,
            "overflow_y": null,
            "padding": null,
            "right": null,
            "top": null,
            "visibility": null,
            "width": null
          }
        },
        "9008ae672aad4963be434832a7a0db27": {
          "model_module": "@jupyter-widgets/controls",
          "model_name": "DescriptionStyleModel",
          "model_module_version": "1.5.0",
          "state": {
            "_model_module": "@jupyter-widgets/controls",
            "_model_module_version": "1.5.0",
            "_model_name": "DescriptionStyleModel",
            "_view_count": null,
            "_view_module": "@jupyter-widgets/base",
            "_view_module_version": "1.2.0",
            "_view_name": "StyleView",
            "description_width": ""
          }
        },
        "fcf0e48c89b145dd92c71562160d34cb": {
          "model_module": "@jupyter-widgets/base",
          "model_name": "LayoutModel",
          "model_module_version": "1.2.0",
          "state": {
            "_model_module": "@jupyter-widgets/base",
            "_model_module_version": "1.2.0",
            "_model_name": "LayoutModel",
            "_view_count": null,
            "_view_module": "@jupyter-widgets/base",
            "_view_module_version": "1.2.0",
            "_view_name": "LayoutView",
            "align_content": null,
            "align_items": null,
            "align_self": null,
            "border": null,
            "bottom": null,
            "display": null,
            "flex": null,
            "flex_flow": null,
            "grid_area": null,
            "grid_auto_columns": null,
            "grid_auto_flow": null,
            "grid_auto_rows": null,
            "grid_column": null,
            "grid_gap": null,
            "grid_row": null,
            "grid_template_areas": null,
            "grid_template_columns": null,
            "grid_template_rows": null,
            "height": null,
            "justify_content": null,
            "justify_items": null,
            "left": null,
            "margin": null,
            "max_height": null,
            "max_width": null,
            "min_height": null,
            "min_width": null,
            "object_fit": null,
            "object_position": null,
            "order": null,
            "overflow": null,
            "overflow_x": null,
            "overflow_y": null,
            "padding": null,
            "right": null,
            "top": null,
            "visibility": null,
            "width": null
          }
        },
        "e54afe8261404413a8fbb6362b5cc899": {
          "model_module": "@jupyter-widgets/controls",
          "model_name": "ProgressStyleModel",
          "model_module_version": "1.5.0",
          "state": {
            "_model_module": "@jupyter-widgets/controls",
            "_model_module_version": "1.5.0",
            "_model_name": "ProgressStyleModel",
            "_view_count": null,
            "_view_module": "@jupyter-widgets/base",
            "_view_module_version": "1.2.0",
            "_view_name": "StyleView",
            "bar_color": null,
            "description_width": ""
          }
        },
        "4c9706eb399e445fabfe293f6a369060": {
          "model_module": "@jupyter-widgets/base",
          "model_name": "LayoutModel",
          "model_module_version": "1.2.0",
          "state": {
            "_model_module": "@jupyter-widgets/base",
            "_model_module_version": "1.2.0",
            "_model_name": "LayoutModel",
            "_view_count": null,
            "_view_module": "@jupyter-widgets/base",
            "_view_module_version": "1.2.0",
            "_view_name": "LayoutView",
            "align_content": null,
            "align_items": null,
            "align_self": null,
            "border": null,
            "bottom": null,
            "display": null,
            "flex": null,
            "flex_flow": null,
            "grid_area": null,
            "grid_auto_columns": null,
            "grid_auto_flow": null,
            "grid_auto_rows": null,
            "grid_column": null,
            "grid_gap": null,
            "grid_row": null,
            "grid_template_areas": null,
            "grid_template_columns": null,
            "grid_template_rows": null,
            "height": null,
            "justify_content": null,
            "justify_items": null,
            "left": null,
            "margin": null,
            "max_height": null,
            "max_width": null,
            "min_height": null,
            "min_width": null,
            "object_fit": null,
            "object_position": null,
            "order": null,
            "overflow": null,
            "overflow_x": null,
            "overflow_y": null,
            "padding": null,
            "right": null,
            "top": null,
            "visibility": null,
            "width": null
          }
        },
        "35177aa3a8c34094a99a1304bee99d8c": {
          "model_module": "@jupyter-widgets/controls",
          "model_name": "DescriptionStyleModel",
          "model_module_version": "1.5.0",
          "state": {
            "_model_module": "@jupyter-widgets/controls",
            "_model_module_version": "1.5.0",
            "_model_name": "DescriptionStyleModel",
            "_view_count": null,
            "_view_module": "@jupyter-widgets/base",
            "_view_module_version": "1.2.0",
            "_view_name": "StyleView",
            "description_width": ""
          }
        }
      }
    }
  },
  "cells": [
    {
      "cell_type": "markdown",
      "source": [
        "## **Neural Network without MC Dropout**"
      ],
      "metadata": {
        "id": "66YMEuOZ8Wt2"
      }
    },
    {
      "cell_type": "code",
      "source": [
        "!pip install -q flax"
      ],
      "metadata": {
        "id": "MFFKIhBVvE8M",
        "colab": {
          "base_uri": "https://localhost:8080/"
        },
        "outputId": "870965fe-8689-451f-bbbd-e3d43c7e32c3"
      },
      "execution_count": null,
      "outputs": [
        {
          "output_type": "stream",
          "name": "stdout",
          "text": [
            "\u001b[K     |████████████████████████████████| 185 kB 5.3 MB/s \n",
            "\u001b[K     |████████████████████████████████| 145 kB 60.2 MB/s \n",
            "\u001b[K     |████████████████████████████████| 237 kB 59.4 MB/s \n",
            "\u001b[K     |████████████████████████████████| 51 kB 5.8 MB/s \n",
            "\u001b[K     |████████████████████████████████| 85 kB 3.4 MB/s \n",
            "\u001b[?25h"
          ]
        }
      ]
    },
    {
      "cell_type": "code",
      "execution_count": null,
      "metadata": {
        "id": "oigimUepuucA"
      },
      "outputs": [],
      "source": [
        "#necessary imports\n",
        "import jax\n",
        "import jax.numpy as jnp                \n",
        "from flax import linen as nn           \n",
        "from flax.training import train_state  \n",
        "import numpy as np                    \n",
        "import optax                          \n",
        "import tensorflow_datasets as tfds    "
      ]
    },
    {
      "cell_type": "markdown",
      "source": [
        "Architecture: \n",
        "1. 32 neurons\n",
        "2. 64 neurons\n",
        "3. 256 neurons\n",
        "4. 10 output neurons for 10 classes"
      ],
      "metadata": {
        "id": "FOrBGqmXUQVB"
      }
    },
    {
      "cell_type": "markdown",
      "source": [
        "![image.png](data:image/png;base64,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)"
      ],
      "metadata": {
        "id": "4kRbsT1HZbB6"
      }
    },
    {
      "cell_type": "code",
      "source": [
        "class CNN(nn.Module):\n",
        "  @nn.compact\n",
        "  def __call__(self, x, deterministic:bool = True):\n",
        "    x = nn.Conv(features=32, kernel_size=(3, 3))(x)\n",
        "    x = nn.relu(x)\n",
        "    x = nn.avg_pool(x, window_shape=(2, 2), strides=(2, 2))\n",
        "    x = nn.Conv(features=64, kernel_size=(3, 3))(x)\n",
        "    x = nn.relu(x)\n",
        "    x = nn.Dropout(0.3, deterministic = deterministic)(x)\n",
        "    x = nn.avg_pool(x, window_shape=(2, 2), strides=(2, 2))\n",
        "    x = x.reshape((x.shape[0], -1)) \n",
        "    x = nn.Dense(features=256)(x)\n",
        "    x = nn.relu(x)\n",
        "    x = nn.Dense(features=10)(x)\n",
        "    return x"
      ],
      "metadata": {
        "id": "yaxVAdAAvG6c"
      },
      "execution_count": null,
      "outputs": []
    },
    {
      "cell_type": "code",
      "source": [
        "#Loss function for multi-class classification = cross-entropy loss\n",
        "def cross_entropy_loss(*, logits, labels):\n",
        "  labels_onehot = jax.nn.one_hot(labels, num_classes=10) #one-hot encoding for cross entropy loss\n",
        "  return optax.softmax_cross_entropy(logits=logits, labels=labels_onehot).mean()"
      ],
      "metadata": {
        "id": "IWYmVAnLvK5l"
      },
      "execution_count": null,
      "outputs": []
    },
    {
      "cell_type": "code",
      "source": [
        "#compute-metrics for returning the loss and accuracy of the model\n",
        "def compute_metrics(*, logits, labels):\n",
        "  loss = cross_entropy_loss(logits=logits, labels=labels)\n",
        "  accuracy = jnp.mean(jnp.argmax(logits, -1) == labels)\n",
        "  metrics = {\n",
        "      'loss': loss,\n",
        "      'accuracy': accuracy,\n",
        "  }\n",
        "  return metrics"
      ],
      "metadata": {
        "id": "0B32brbGvMMF"
      },
      "execution_count": null,
      "outputs": []
    },
    {
      "cell_type": "code",
      "source": [
        "def get_datasets(): #dataset-loader\n",
        "  ds_builder = tfds.builder('mnist')\n",
        "  ds_builder.download_and_prepare()\n",
        "  train_ds = tfds.as_numpy(ds_builder.as_dataset(split='train', batch_size=-1))\n",
        "  test_ds = tfds.as_numpy(ds_builder.as_dataset(split='test', batch_size=-1))\n",
        "  train_ds['image'] = jnp.float32(train_ds['image']) / 255.\n",
        "  test_ds['image'] = jnp.float32(test_ds['image']) / 255.\n",
        "  return train_ds, test_ds"
      ],
      "metadata": {
        "id": "EiXOhJD9vNjU"
      },
      "execution_count": null,
      "outputs": []
    },
    {
      "cell_type": "code",
      "source": [
        "def create_train_state(rng, learning_rate, momentum):\n",
        "  cnn = CNN() #model initialized\n",
        "  init_rng = {'params':rng, 'dropout': jax.random.PRNGKey(10)}\n",
        "  params = cnn.init(rng, jnp.ones([1, 28, 28, 1]))['params']\n",
        "  tx = optax.sgd(learning_rate, momentum) #Stochastic gradient descent for params\n",
        "  return train_state.TrainState.create(apply_fn=cnn.apply, params=params, tx=tx)"
      ],
      "metadata": {
        "id": "R-PX1QcevPBV"
      },
      "execution_count": null,
      "outputs": []
    },
    {
      "cell_type": "code",
      "source": [
        "@jax.jit\n",
        "def train_step(state, batch):\n",
        "  def loss_fn(params, rngs): # training for a single step\n",
        "    logits = CNN().apply({'params': params}, batch['image'], deterministic = True, rngs = rngs)\n",
        "    loss = cross_entropy_loss(logits=logits, labels=batch['label'])\n",
        "    return loss, logits\n",
        "  grad_fn = jax.value_and_grad(loss_fn, has_aux=True)\n",
        "  (_, logits), grads = grad_fn(state.params, rngs={'dropout':jax.random.PRNGKey(0)})\n",
        "  state = state.apply_gradients(grads=grads)\n",
        "  metrics = compute_metrics(logits=logits, labels=batch['label'])\n",
        "  return state, metrics"
      ],
      "metadata": {
        "id": "HgjtoEVovQnF"
      },
      "execution_count": null,
      "outputs": []
    },
    {
      "cell_type": "code",
      "source": [
        "@jax.jit #gives the loss and accuracy of the model on the test images\n",
        "def eval_step(params, batch):\n",
        "  logits = CNN().apply({'params': params}, batch['image'], deterministic = True, rngs={'dropout':jax.random.PRNGKey(0)})\n",
        "  return compute_metrics(logits=logits, labels=batch['label']), logits"
      ],
      "metadata": {
        "id": "43uVB-VSvSDt"
      },
      "execution_count": null,
      "outputs": []
    },
    {
      "cell_type": "code",
      "source": [
        "def train_epoch(state, train_ds, batch_size, epoch, rng):# Train for a single epoch \n",
        "  train_size = len(train_ds['image'])\n",
        "  steps_per_epoch = train_size // batch_size\n",
        "  perms = jax.random.permutation(rng, train_size)\n",
        "  perms = perms[:steps_per_epoch * batch_size]  # in case of incomplete batch since no. of training points might not be a clear multiple of the batch size\n",
        "  perms = perms.reshape((steps_per_epoch, batch_size))\n",
        "  batch_metrics = []\n",
        "  for perm in perms:\n",
        "    batch = {k: v[perm, ...] for k, v in train_ds.items()}\n",
        "    state, metrics = train_step(state, batch)\n",
        "    batch_metrics.append(metrics)\n",
        "\n",
        "  batch_metrics_np = jax.device_get(batch_metrics)\n",
        "  epoch_metrics_np = {\n",
        "      k: np.mean([metrics[k] for metrics in batch_metrics_np])\n",
        "      for k in batch_metrics_np[0]}\n",
        "\n",
        "  print('train epoch: %d, loss: %.4f, accuracy: %.2f' % (epoch, epoch_metrics_np['loss'], epoch_metrics_np['accuracy'] * 100))\n",
        "  return state"
      ],
      "metadata": {
        "id": "VWztYzuyvTh-"
      },
      "execution_count": null,
      "outputs": []
    },
    {
      "cell_type": "code",
      "source": [
        "def eval_model(params, test_ds):\n",
        "  metrics, logits = eval_step(params, test_ds)\n",
        "  logits = jax.device_get(logits)\n",
        "  metrics = jax.device_get(metrics)\n",
        "  summary = jax.tree_util.tree_map(lambda x: x.item(), metrics)\n",
        "  return summary['loss'], summary['accuracy'], logits"
      ],
      "metadata": {
        "id": "qOY1wwB7vVLF"
      },
      "execution_count": null,
      "outputs": []
    },
    {
      "cell_type": "code",
      "source": [
        "train_ds, test_ds = get_datasets() #get the datasets"
      ],
      "metadata": {
        "id": "XgTzR-eLvWZd",
        "colab": {
          "base_uri": "https://localhost:8080/",
          "height": 101,
          "referenced_widgets": [
            "9020639c028e4750a487531ca5e7cdff",
            "0cdee3a4c1f845fc8b0dddf09e128c1a",
            "9c61510f068c4780a94c27d689687657",
            "79570e7b3607409b864a8e4c73d0cf53",
            "3142c26a5c304dcd8f0afb1627177ce9",
            "78c1b2ec98554a42a9c2af86c7aaab7d",
            "7f3dcff6f90f4864b9ef452e84996b4d",
            "914714adbf964ad785b26fa80f60331c",
            "06ef8ace30bd401ab5408f7030a86ab5",
            "8e6747bb70924948a01032686f8bea69",
            "bbf69b41dc664cdcaf133de4442e5b4c"
          ]
        },
        "outputId": "b57cc40d-10e5-4238-b69c-9332b8827f9c"
      },
      "execution_count": null,
      "outputs": [
        {
          "output_type": "stream",
          "name": "stdout",
          "text": [
            "\u001b[1mDownloading and preparing dataset 11.06 MiB (download: 11.06 MiB, generated: 21.00 MiB, total: 32.06 MiB) to ~/tensorflow_datasets/mnist/3.0.1...\u001b[0m\n"
          ]
        },
        {
          "output_type": "display_data",
          "data": {
            "text/plain": [
              "Dl Completed...:   0%|          | 0/4 [00:00<?, ? file/s]"
            ],
            "application/vnd.jupyter.widget-view+json": {
              "version_major": 2,
              "version_minor": 0,
              "model_id": "9020639c028e4750a487531ca5e7cdff"
            }
          },
          "metadata": {}
        },
        {
          "output_type": "stream",
          "name": "stdout",
          "text": [
            "\u001b[1mDataset mnist downloaded and prepared to ~/tensorflow_datasets/mnist/3.0.1. Subsequent calls will reuse this data.\u001b[0m\n"
          ]
        },
        {
          "output_type": "stream",
          "name": "stderr",
          "text": [
            "WARNING:absl:No GPU/TPU found, falling back to CPU. (Set TF_CPP_MIN_LOG_LEVEL=0 and rerun for more info.)\n"
          ]
        }
      ]
    },
    {
      "cell_type": "code",
      "source": [
        "rng = jax.random.PRNGKey(0)\n",
        "rng, init_rng = jax.random.split(rng)"
      ],
      "metadata": {
        "id": "rrZK8HbRvYQk"
      },
      "execution_count": null,
      "outputs": []
    },
    {
      "cell_type": "code",
      "source": [
        "learning_rate = 0.1\n",
        "momentum = 0.9"
      ],
      "metadata": {
        "id": "C2NxdZhvvZjc"
      },
      "execution_count": null,
      "outputs": []
    },
    {
      "cell_type": "code",
      "source": [
        "state = create_train_state(init_rng, learning_rate, momentum)\n",
        "del init_rng  # Must not be used anymore."
      ],
      "metadata": {
        "id": "HKOQXdR3vc9j"
      },
      "execution_count": null,
      "outputs": []
    },
    {
      "cell_type": "code",
      "source": [
        "num_epochs = 10\n",
        "batch_size = 32"
      ],
      "metadata": {
        "id": "c0KdYJZdveTk"
      },
      "execution_count": null,
      "outputs": []
    },
    {
      "cell_type": "code",
      "source": [
        "import jax\n",
        "import jax.numpy as jnp"
      ],
      "metadata": {
        "id": "368N0TvwnmR3"
      },
      "execution_count": null,
      "outputs": []
    },
    {
      "cell_type": "markdown",
      "source": [
        "We iterate through the original dataset which is in the form of a dictionary with the keys as images and labels respectively. Then by running a simple for loop, we add the images and the corresponding labels to the x and y arrays. Since we need 500 images of each class, we stop if the count of the images left to be added becomes zero. After the loop, 500 images of each class has been added to the two arrays for training and further evaluation. "
      ],
      "metadata": {
        "id": "swp4X5bMfAqI"
      }
    },
    {
      "cell_type": "code",
      "source": [
        "count_train = [500]*10\n",
        "x_train_final = np.empty([5000,28,28,1])\n",
        "y_train_final = np.empty([5000,])\n",
        "j = 0\n",
        "for i in range(6000):\n",
        "  if(train_ds['label'][i]==0 and count_train[0]>0):\n",
        "    x_train_final[j] = train_ds['image'][j]\n",
        "    y_train_final[j] = train_ds['label'][j]\n",
        "    count_train[0]-=1\n",
        "    j+=1\n",
        "  if(train_ds['label'][i]==1 and count_train[1]>0):\n",
        "    x_train_final[j] = train_ds['image'][j]\n",
        "    y_train_final[j] = train_ds['label'][j]\n",
        "    count_train[1]-=1\n",
        "    j+=1\n",
        "  if(train_ds['label'][i]==2 and count_train[2]>0):\n",
        "    x_train_final[j] = train_ds['image'][j]\n",
        "    y_train_final[j] = train_ds['label'][j]\n",
        "    count_train[2]-=1\n",
        "    j+=1\n",
        "  if(train_ds['label'][i]==3 and count_train[3]>0):\n",
        "    x_train_final[j] = train_ds['image'][j]\n",
        "    y_train_final[j] = train_ds['label'][j]\n",
        "    count_train[3]-=1\n",
        "    j+=1\n",
        "  if(train_ds['label'][i]==4 and count_train[4]>0):\n",
        "    x_train_final[j] = train_ds['image'][j]\n",
        "    y_train_final[j] = train_ds['label'][j]\n",
        "    count_train[4]-=1\n",
        "    j+=1\n",
        "  if(train_ds['label'][i]==5 and count_train[5]>0):\n",
        "    x_train_final[j] = train_ds['image'][j]\n",
        "    y_train_final[j] = train_ds['label'][j]\n",
        "    count_train[5]-=1\n",
        "    j+=1\n",
        "  if(train_ds['label'][i]==6 and count_train[6]>0):\n",
        "    x_train_final[j] = train_ds['image'][j]\n",
        "    y_train_final[j] = train_ds['label'][j]\n",
        "    count_train[6]-=1\n",
        "    j+=1\n",
        "\n",
        "  if(train_ds['label'][i]==7 and count_train[7]>0):\n",
        "    x_train_final[j] = train_ds['image'][j]\n",
        "    y_train_final[j] = train_ds['label'][j]\n",
        "    count_train[7]-=1\n",
        "    j+=1\n",
        "\n",
        "  if(train_ds['label'][i]==8 and count_train[8]>0):\n",
        "    x_train_final[j] = train_ds['image'][j]\n",
        "    y_train_final[j] = train_ds['label'][j]\n",
        "    count_train[8]-=1\n",
        "    j+=1\n",
        "\n",
        "  if(train_ds['label'][i]==9 and count_train[9]>0):\n",
        "    x_train_final[j] = train_ds['image'][j]\n",
        "    y_train_final[j] = train_ds['label'][j]\n",
        "    count_train[9]-=1\n",
        "    j+=1"
      ],
      "metadata": {
        "id": "UsP_gBLhocER"
      },
      "execution_count": null,
      "outputs": []
    },
    {
      "cell_type": "markdown",
      "source": [
        "After the loop, 100 images of each class has been added to the two arrays for testing and further evaluation. "
      ],
      "metadata": {
        "id": "yqHoe5ghfdYm"
      }
    },
    {
      "cell_type": "code",
      "source": [
        "count_test = [100]*10\n",
        "x_test_final = np.empty([1000,28,28,1])\n",
        "y_test_final = np.empty([1000,])\n",
        "j = 0\n",
        "for i in range(1300):\n",
        "  if(test_ds['label'][i]==0 and count_test[0]>0):\n",
        "    x_test_final[j] = test_ds['image'][j]\n",
        "    y_test_final[j] = test_ds['label'][j]\n",
        "    count_test[0]-=1\n",
        "    j+=1\n",
        "  if(test_ds['label'][i]==1 and count_test[1]>0):\n",
        "    x_test_final[j] = test_ds['image'][j]\n",
        "    y_test_final[j] = test_ds['label'][j]\n",
        "    count_test[1]-=1\n",
        "    j+=1\n",
        "  if(test_ds['label'][i]==2 and count_test[2]>0):\n",
        "    x_test_final[j] = test_ds['image'][j]\n",
        "    y_test_final[j] = test_ds['label'][j]\n",
        "    count_test[2]-=1\n",
        "    j+=1\n",
        "  if(test_ds['label'][i]==3 and count_test[3]>0):\n",
        "    x_test_final[j] = test_ds['image'][j]\n",
        "    y_test_final[j] = test_ds['label'][j]\n",
        "    count_test[3]-=1\n",
        "    j+=1\n",
        "  if(test_ds['label'][i]==4 and count_test[4]>0):\n",
        "    x_test_final[j] = test_ds['image'][j]\n",
        "    y_test_final[j] = test_ds['label'][j]\n",
        "    count_test[4]-=1\n",
        "    j+=1\n",
        "  if(test_ds['label'][i]==5 and count_test[5]>0):\n",
        "    x_test_final[j] = test_ds['image'][j]\n",
        "    y_test_final[j] = test_ds['label'][j]\n",
        "    count_test[5]-=1\n",
        "    j+=1\n",
        "  if(test_ds['label'][i]==6 and count_test[6]>0):\n",
        "    x_test_final[j] = test_ds['image'][j]\n",
        "    y_test_final[j] = test_ds['label'][j]\n",
        "    count_test[6]-=1\n",
        "    j+=1\n",
        "\n",
        "  if(test_ds['label'][i]==7 and count_test[7]>0):\n",
        "    x_test_final[j] = test_ds['image'][j]\n",
        "    y_test_final[j] = test_ds['label'][j]\n",
        "    count_test[7]-=1\n",
        "    j+=1\n",
        "\n",
        "  if(test_ds['label'][i]==8 and count_test[8]>0):\n",
        "    x_test_final[j] = test_ds['image'][j]\n",
        "    y_test_final[j] = test_ds['label'][j]\n",
        "    count_test[8]-=1\n",
        "    j+=1\n",
        "\n",
        "  if(test_ds['label'][i]==9 and count_test[9]>0):\n",
        "    x_test_final[j] = test_ds['image'][j]\n",
        "    y_test_final[j] = test_ds['label'][j]\n",
        "    count_test[9]-=1\n",
        "    j+=1\n",
        "\n",
        "\n",
        "  "
      ],
      "metadata": {
        "id": "GHWBHst2oftK"
      },
      "execution_count": null,
      "outputs": []
    },
    {
      "cell_type": "markdown",
      "source": [
        "Making it in a dictionary format for the evaluation purposes"
      ],
      "metadata": {
        "id": "XOghAfhxfhZL"
      }
    },
    {
      "cell_type": "code",
      "source": [
        "train_ds_new = {}\n",
        "train_ds_new['image'] = jnp.array(x_train_final)\n",
        "train_ds_new['label'] = y_train_final\n",
        "test_ds_new = {}\n",
        "test_ds_new['image'] = jnp.array(x_test_final)\n",
        "test_ds_new['label'] = y_test_final"
      ],
      "metadata": {
        "id": "qtjKCM05nLO6"
      },
      "execution_count": null,
      "outputs": []
    },
    {
      "cell_type": "code",
      "source": [
        "logits_tot = []\n",
        "for epoch in range(1, num_epochs + 1):\n",
        "  rng, input_rng = jax.random.split(rng)\n",
        "  state = train_epoch(state, train_ds_new, batch_size, epoch, input_rng)\n",
        "  test_loss, test_accuracy, logits = eval_model(state.params, test_ds_new)\n",
        "  logits_tot.append(logits)\n",
        "  print(' test epoch: %d, loss: %.2f, accuracy: %.2f' % (\n",
        "      epoch, test_loss, test_accuracy * 100))"
      ],
      "metadata": {
        "colab": {
          "base_uri": "https://localhost:8080/"
        },
        "id": "_XPbtZCBvfi0",
        "outputId": "40331654-3741-45a9-d2af-cecd90703337"
      },
      "execution_count": null,
      "outputs": [
        {
          "output_type": "stream",
          "name": "stdout",
          "text": [
            "train epoch: 1, loss: 0.5284, accuracy: 82.71\n",
            " test epoch: 1, loss: 0.16, accuracy: 95.10\n",
            "train epoch: 2, loss: 0.1579, accuracy: 95.01\n",
            " test epoch: 2, loss: 0.16, accuracy: 95.40\n",
            "train epoch: 3, loss: 0.0963, accuracy: 96.96\n",
            " test epoch: 3, loss: 0.12, accuracy: 96.10\n",
            "train epoch: 4, loss: 0.0727, accuracy: 97.56\n",
            " test epoch: 4, loss: 0.13, accuracy: 96.30\n",
            "train epoch: 5, loss: 0.0529, accuracy: 98.16\n",
            " test epoch: 5, loss: 0.09, accuracy: 97.50\n",
            "train epoch: 6, loss: 0.0505, accuracy: 98.44\n",
            " test epoch: 6, loss: 0.10, accuracy: 96.80\n",
            "train epoch: 7, loss: 0.0287, accuracy: 99.02\n",
            " test epoch: 7, loss: 0.15, accuracy: 96.10\n",
            "train epoch: 8, loss: 0.0309, accuracy: 98.94\n",
            " test epoch: 8, loss: 0.09, accuracy: 97.70\n",
            "train epoch: 9, loss: 0.0239, accuracy: 99.32\n",
            " test epoch: 9, loss: 0.08, accuracy: 98.10\n",
            "train epoch: 10, loss: 0.0060, accuracy: 99.76\n",
            " test epoch: 10, loss: 0.09, accuracy: 97.90\n"
          ]
        }
      ]
    },
    {
      "cell_type": "markdown",
      "source": [
        "We can see that in the first training epoch, the accuracy on train and test are good but not upto the level. As the training goes on, the accuracy improves for both the instances. Also the accuracy does not immediately go to 100% which might become a measure of overfitting if it did so. But here that is not the case."
      ],
      "metadata": {
        "id": "cQ9sLI_sfm_a"
      }
    },
    {
      "cell_type": "code",
      "source": [
        "b = nn.softmax(logits_tot[9][-11])"
      ],
      "metadata": {
        "id": "6GXgs8CGh-6X"
      },
      "execution_count": null,
      "outputs": []
    },
    {
      "cell_type": "code",
      "source": [
        "digits = np.arange(10)\n",
        "import matplotlib.pyplot as plt\n",
        "plt.plot(digits, b)"
      ],
      "metadata": {
        "colab": {
          "base_uri": "https://localhost:8080/",
          "height": 282
        },
        "id": "p15gy_0uW6xl",
        "outputId": "9ce091c3-797f-4471-fdea-18f0c41428d3"
      },
      "execution_count": null,
      "outputs": [
        {
          "output_type": "execute_result",
          "data": {
            "text/plain": [
              "[<matplotlib.lines.Line2D at 0x7f4caa0d6090>]"
            ]
          },
          "metadata": {},
          "execution_count": 23
        },
        {
          "output_type": "display_data",
          "data": {
            "text/plain": [
              "<Figure size 432x288 with 1 Axes>"
            ],
            "image/png": "[encoded data removed]"
          },
          "metadata": {
            "needs_background": "light"
          }
        }
      ]
    },
    {
      "cell_type": "code",
      "source": [
        "def get_datasets_fashion(): # Load MNIST train and test datasets into memory\n",
        "  ds_builder = tfds.builder('fashion_mnist')\n",
        "  ds_builder.download_and_prepare()\n",
        "  train_ds = tfds.as_numpy(ds_builder.as_dataset(split='train', batch_size=-1))\n",
        "  test_ds = tfds.as_numpy(ds_builder.as_dataset(split='test', batch_size=-1))\n",
        "  train_ds['image'] = jnp.float32(train_ds['image']) / 255.\n",
        "  test_ds['image'] = jnp.float32(test_ds['image']) / 255.\n",
        "  return train_ds, test_ds"
      ],
      "metadata": {
        "id": "7O9C-0eunzqO"
      },
      "execution_count": null,
      "outputs": []
    },
    {
      "cell_type": "code",
      "source": [
        "train_ds_fashion, test_ds_fashion = get_datasets_fashion()"
      ],
      "metadata": {
        "id": "X_Acawq_W8YO",
        "colab": {
          "base_uri": "https://localhost:8080/",
          "height": 168,
          "referenced_widgets": [
            "ed4114eaebd84a42b9009d8986acde10",
            "ae6fc4d974d2470c962d114d0c0e0e67",
            "8f4609bc49b3429a9df5995a51b13ad5",
            "25049a65411349a9ad0214cb258ba8a5",
            "72a3483ce95b42479f59b5ebd0f08ad5",
            "8528e5f5b09040a78a29440764d67635",
            "bef6334add174b55b1816667c6e65d71",
            "86902cf059c7408eb9ec26ae7fb17448",
            "ea397180e38d4bcea8191d6bf807fc6d",
            "a5505cbbdfa74f6893a1ae2c0fc8aa05",
            "a4266c95beac40fe8fc972bfc0314843",
            "31c65ad1a74542ea98d341f336e3ac98",
            "7055e206c38447d1844d9e51b60d38ff",
            "e435d7a6bbe7411baf8651e07828e811",
            "b98de5b5bb7c49b68a415170c6e470e7",
            "5688228dcae54a5e8ea5be8197070683",
            "d49b18d3ee984c248951a6dcec260585",
            "411b7018788d40ac912330c959282c1a",
            "4d3a2c9af1724b1bab30b71d6528860f",
            "3e4f904e4f304eadbf1b88e26f825fed",
            "bb1d6a693e2a4f15beaab13ddde555af",
            "9ccc64ff93a54eadbcc3ac0e53c3dd04",
            "1c4754f0ffdd4dd6878ca6cebd190212",
            "f09964e1f6b1410ca0060bb9a22b365b",
            "8e1498d45a744b53a2bbf668630b5573",
            "53cb00c16bfb401a93fb5c6cb32aae86",
            "20a113b9e7954723a35e88b99dcbf3a3",
            "74cb1dc4d95d494199a5e744aa858062",
            "c14118895689434a925c4e04523e5cc8",
            "1ec31aea6be046a8ab03ba2b398b921b",
            "964892b373654e35b1832b4262425599",
            "2aff57f18ba848f8955b79e5d868b5c3",
            "b2866c51214c411c97b5fc4d05e98456",
            "51d0d69978f5472db048968810d56204",
            "3829933bd78d48308f81712951a5285c",
            "fdee02f1e80d4a2794e7c9aaceffd345",
            "b507b2333a3142cba654d7267e52fbba",
            "ef87a1de35df4bbf83f5200935d5b414",
            "3011130083904c248a1fd97273ba6edb",
            "b39e94d0009645eaa1cabe0e100d4fa7",
            "cfb222dd5f3b441b9db89f0f483d9e4a",
            "e3c80935b90640c19366f0c28aae972d",
            "422ad4ce98124aafa1116cdd9efb2b78",
            "e1d4ca8ea79b4b808dddd7e1cb619222",
            "e4f8ba02cae043f4b1a920b021bbf4c2",
            "412f68d391264a039912536600ae8b97",
            "e4b22c16cf814eacac183cca823079a5",
            "5bf657a75d2545159c164b60fed1ae4f",
            "409a077a7f404e668167d9c6843ef0c0",
            "1448bad4d93140edad435b1313366144",
            "883d7bbb14b84c13b6fcbcc8eb8c2320",
            "bbea43bd3c4f403d970c699ff5f8d017",
            "56eebd96d9294ff5a9520886e3ca678a",
            "3826abce0ed74f4f96162d21323b9422",
            "a539437b98d4432bbf151acfaa5ce1a7",
            "1967e3bd6239424587d13bc14b0d8bad",
            "32f3421dca174032a52a42b64e09763d",
            "22bb479229614e89a5c0c3b62744e097",
            "910b82a747b04e84af62f2d59ec7685c",
            "f6985e0837a94c89a6572fa4a2776d59",
            "94c57714d49842fda8227578cded0166",
            "8673e7d0dab74986a949650310cd7e26",
            "358267d7a8fe44f1878ea12b801abea5",
            "56e660901aca432fac0bd7db73fbe487",
            "0cc1fd177f89431baaf95a7db4b85ed6",
            "6ac5fcf9bfbf4cc79069573cbeaf3532",
            "93b4ac12f34348a2abd5274e9a5439eb",
            "8ac89d01070e4193b77beb49afca40d7",
            "1e4cae625a6345c1a1c7958a3435a0cb",
            "cdd5e5079e044b06abaf1565ebc0ec88",
            "3880bbd183a34b1f8828e27c4b4bc0a2",
            "6cb507f7d33e4fbbbd6c6aabc02629c5",
            "577b9bc54688437da80182c00a921fec",
            "b217c1005dfe4d41a8641b3d1bdc9bbd",
            "1ec4a8127f3a4dd58c6cc2a09db659f7",
            "e6e9e5d8ba6347edb36a02b44a0d4e2f",
            "c7a5c4997bdc41468ac83406df980a62",
            "8d07f9db27d34a8babf9b83b1e8e4c15",
            "7c35f0b8ca1142ee8998eab1f07b95d5",
            "ef54e22545bc46489a8f36399d31c833",
            "26b96e0464e748929196a580b2da1d95",
            "e27538094ce043e2a2a18a13dbe76ff7",
            "0311149ebfa74f848f82c367d6fb4338",
            "9008ae672aad4963be434832a7a0db27",
            "fcf0e48c89b145dd92c71562160d34cb",
            "e54afe8261404413a8fbb6362b5cc899",
            "4c9706eb399e445fabfe293f6a369060",
            "35177aa3a8c34094a99a1304bee99d8c"
          ]
        },
        "outputId": "61afd61c-76a3-4181-b007-fc26ae5f6da0"
      },
      "execution_count": null,
      "outputs": [
        {
          "output_type": "stream",
          "name": "stdout",
          "text": [
            "\u001b[1mDownloading and preparing dataset 29.45 MiB (download: 29.45 MiB, generated: 36.42 MiB, total: 65.87 MiB) to ~/tensorflow_datasets/fashion_mnist/3.0.1...\u001b[0m\n"
          ]
        },
        {
          "output_type": "display_data",
          "data": {
            "text/plain": [
              "Dl Completed...: 0 url [00:00, ? url/s]"
            ],
            "application/vnd.jupyter.widget-view+json": {
              "version_major": 2,
              "version_minor": 0,
              "model_id": "ed4114eaebd84a42b9009d8986acde10"
            }
          },
          "metadata": {}
        },
        {
          "output_type": "display_data",
          "data": {
            "text/plain": [
              "Dl Size...: 0 MiB [00:00, ? MiB/s]"
            ],
            "application/vnd.jupyter.widget-view+json": {
              "version_major": 2,
              "version_minor": 0,
              "model_id": "31c65ad1a74542ea98d341f336e3ac98"
            }
          },
          "metadata": {}
        },
        {
          "output_type": "display_data",
          "data": {
            "text/plain": [
              "Extraction completed...: 0 file [00:00, ? file/s]"
            ],
            "application/vnd.jupyter.widget-view+json": {
              "version_major": 2,
              "version_minor": 0,
              "model_id": "1c4754f0ffdd4dd6878ca6cebd190212"
            }
          },
          "metadata": {}
        },
        {
          "output_type": "display_data",
          "data": {
            "text/plain": [
              "Generating splits...:   0%|          | 0/2 [00:00<?, ? splits/s]"
            ],
            "application/vnd.jupyter.widget-view+json": {
              "version_major": 2,
              "version_minor": 0,
              "model_id": "51d0d69978f5472db048968810d56204"
            }
          },
          "metadata": {}
        },
        {
          "output_type": "display_data",
          "data": {
            "text/plain": [
              "Generating train examples...:   0%|          | 0/60000 [00:00<?, ? examples/s]"
            ],
            "application/vnd.jupyter.widget-view+json": {
              "version_major": 2,
              "version_minor": 0,
              "model_id": "e4f8ba02cae043f4b1a920b021bbf4c2"
            }
          },
          "metadata": {}
        },
        {
          "output_type": "display_data",
          "data": {
            "text/plain": [
              "Shuffling ~/tensorflow_datasets/fashion_mnist/3.0.1.incomplete505JHH/fashion_mnist-train.tfrecord*...:   0%|  …"
            ],
            "application/vnd.jupyter.widget-view+json": {
              "version_major": 2,
              "version_minor": 0,
              "model_id": "1967e3bd6239424587d13bc14b0d8bad"
            }
          },
          "metadata": {}
        },
        {
          "output_type": "display_data",
          "data": {
            "text/plain": [
              "Generating test examples...:   0%|          | 0/10000 [00:00<?, ? examples/s]"
            ],
            "application/vnd.jupyter.widget-view+json": {
              "version_major": 2,
              "version_minor": 0,
              "model_id": "93b4ac12f34348a2abd5274e9a5439eb"
            }
          },
          "metadata": {}
        },
        {
          "output_type": "display_data",
          "data": {
            "text/plain": [
              "Shuffling ~/tensorflow_datasets/fashion_mnist/3.0.1.incomplete505JHH/fashion_mnist-test.tfrecord*...:   0%|   …"
            ],
            "application/vnd.jupyter.widget-view+json": {
              "version_major": 2,
              "version_minor": 0,
              "model_id": "8d07f9db27d34a8babf9b83b1e8e4c15"
            }
          },
          "metadata": {}
        },
        {
          "output_type": "stream",
          "name": "stdout",
          "text": [
            "\u001b[1mDataset fashion_mnist downloaded and prepared to ~/tensorflow_datasets/fashion_mnist/3.0.1. Subsequent calls will reuse this data.\u001b[0m\n"
          ]
        }
      ]
    },
    {
      "cell_type": "markdown",
      "source": [
        "After the loop, 100 images of each class has been added to the two arrays for testing and further evaluation. "
      ],
      "metadata": {
        "id": "U9idCY8VgBJ9"
      }
    },
    {
      "cell_type": "code",
      "source": [
        "count_test_fashion = [100]*10\n",
        "x_test_final_fashion = np.empty([1000,28,28,1])\n",
        "y_test_final_fashion = np.empty([1000,])\n",
        "j = 0\n",
        "for i in range(1300):\n",
        "  if(test_ds_fashion['label'][i]==0 and count_test_fashion[0]>0):\n",
        "    x_test_final_fashion[j] = test_ds_fashion['image'][j]\n",
        "    y_test_final_fashion[j] = test_ds_fashion['label'][j]\n",
        "    count_test_fashion[0]-=1\n",
        "    j+=1\n",
        "  if(test_ds_fashion['label'][i]==1 and count_test_fashion[1]>0):\n",
        "    x_test_final_fashion[j] = test_ds_fashion['image'][j]\n",
        "    y_test_final_fashion[j] = test_ds_fashion['label'][j]\n",
        "    count_test_fashion[1]-=1\n",
        "    j+=1\n",
        "  if(test_ds_fashion['label'][i]==2 and count_test_fashion[2]>0):\n",
        "    x_test_final_fashion[j] = test_ds_fashion['image'][j]\n",
        "    y_test_final_fashion[j] = test_ds_fashion['label'][j]\n",
        "    count_test_fashion[2]-=1\n",
        "    j+=1\n",
        "  if(test_ds_fashion['label'][i]==3 and count_test_fashion[3]>0):\n",
        "    x_test_final_fashion[j] = test_ds_fashion['image'][j]\n",
        "    y_test_final_fashion[j] = test_ds_fashion['label'][j]\n",
        "    count_test_fashion[3]-=1\n",
        "    j+=1\n",
        "  if(test_ds_fashion['label'][i]==4 and count_test_fashion[4]>0):\n",
        "    x_test_final_fashion[j] = test_ds_fashion['image'][j]\n",
        "    y_test_final_fashion[j] = test_ds_fashion['label'][j]\n",
        "    count_test_fashion[4]-=1\n",
        "    j+=1\n",
        "  if(test_ds_fashion['label'][i]==5 and count_test_fashion[5]>0):\n",
        "    x_test_final_fashion[j] = test_ds_fashion['image'][j]\n",
        "    y_test_final_fashion[j] = test_ds_fashion['label'][j]\n",
        "    count_test_fashion[5]-=1\n",
        "    j+=1\n",
        "  if(test_ds_fashion['label'][i]==6 and count_test_fashion[6]>0):\n",
        "    x_test_final_fashion[j] = test_ds_fashion['image'][j]\n",
        "    y_test_final_fashion[j] = test_ds_fashion['label'][j]\n",
        "    count_test_fashion[6]-=1\n",
        "    j+=1\n",
        "\n",
        "  if(test_ds_fashion['label'][i]==7 and count_test_fashion[7]>0):\n",
        "    x_test_final_fashion[j] = test_ds_fashion['image'][j]\n",
        "    y_test_final_fashion[j] = test_ds_fashion['label'][j]\n",
        "    count_test_fashion[7]-=1\n",
        "    j+=1\n",
        "\n",
        "  if(test_ds_fashion['label'][i]==8 and count_test_fashion[8]>0):\n",
        "    x_test_final_fashion[j] = test_ds_fashion['image'][j]\n",
        "    y_test_final_fashion[j] = test_ds_fashion['label'][j]\n",
        "    count_test[8]-=1\n",
        "    j+=1\n",
        "\n",
        "  if(test_ds_fashion['label'][i]==9 and count_test[9]>0):\n",
        "    x_test_final_fashion[j] = test_ds_fashion['image'][j]\n",
        "    y_test_final_fashion[j] = test_ds_fashion['label'][j]\n",
        "    count_test[9]-=1\n",
        "    j+=1\n",
        "\n",
        "\n",
        "  "
      ],
      "metadata": {
        "id": "QUT2d9pkWqNK"
      },
      "execution_count": null,
      "outputs": []
    },
    {
      "cell_type": "code",
      "source": [
        "test_ds_new_fashion = {}\n",
        "test_ds_new_fashion['image'] = jnp.array(x_test_final_fashion)\n",
        "test_ds_new_fashion['label'] = y_test_final_fashion"
      ],
      "metadata": {
        "id": "TJ1jZKQVXwdP"
      },
      "execution_count": null,
      "outputs": []
    },
    {
      "cell_type": "code",
      "source": [
        "train_ds_new['image'].shape"
      ],
      "metadata": {
        "colab": {
          "base_uri": "https://localhost:8080/"
        },
        "id": "_Mi9XIaXbJn8",
        "outputId": "2d8ea0f4-3ca2-44d4-d9f8-b565ee3981c1"
      },
      "execution_count": null,
      "outputs": [
        {
          "output_type": "execute_result",
          "data": {
            "text/plain": [
              "(5000, 28, 28, 1)"
            ]
          },
          "metadata": {},
          "execution_count": 28
        }
      ]
    },
    {
      "cell_type": "code",
      "source": [
        "test_ds_new_fashion['label'].shape"
      ],
      "metadata": {
        "colab": {
          "base_uri": "https://localhost:8080/"
        },
        "id": "IvecF4EYDiwc",
        "outputId": "8bd7e2cf-e25b-410d-97c4-15824aab194a"
      },
      "execution_count": null,
      "outputs": [
        {
          "output_type": "execute_result",
          "data": {
            "text/plain": [
              "(1000,)"
            ]
          },
          "metadata": {},
          "execution_count": 29
        }
      ]
    },
    {
      "cell_type": "code",
      "source": [
        "logits = CNN().apply({'params': state.params}, test_ds_new_fashion['image'], deterministic = True, rngs={'dropout':jax.random.PRNGKey(0)})\n",
        "logits = nn.softmax(logits)"
      ],
      "metadata": {
        "id": "a6uLtkVrX-Oe"
      },
      "execution_count": null,
      "outputs": []
    },
    {
      "cell_type": "code",
      "source": [
        "import matplotlib.pyplot as plt\n",
        "plt.imshow(test_ds_new_fashion['image'][1].reshape(28,28))"
      ],
      "metadata": {
        "colab": {
          "base_uri": "https://localhost:8080/",
          "height": 282
        },
        "id": "K1AxJsOSIZro",
        "outputId": "f4f5a8d7-0062-4e71-e241-f1f5c8e20f33"
      },
      "execution_count": null,
      "outputs": [
        {
          "output_type": "execute_result",
          "data": {
            "text/plain": [
              "<matplotlib.image.AxesImage at 0x7f4ca5e07750>"
            ]
          },
          "metadata": {},
          "execution_count": 31
        },
        {
          "output_type": "display_data",
          "data": {
            "text/plain": [
              "<Figure size 432x288 with 1 Axes>"
            ],
            "image/png": "[encoded data removed]"
          },
          "metadata": {
            "needs_background": "light"
          }
        }
      ]
    },
    {
      "cell_type": "code",
      "source": [
        "b = logits[1]"
      ],
      "metadata": {
        "id": "f09lx3RJHPzG"
      },
      "execution_count": null,
      "outputs": []
    },
    {
      "cell_type": "code",
      "source": [
        "digits = np.arange(10)\n",
        "import matplotlib.pyplot as plt\n",
        "plt.plot(digits, b)\n",
        "plt.ylim(0,1)"
      ],
      "metadata": {
        "colab": {
          "base_uri": "https://localhost:8080/",
          "height": 286
        },
        "id": "R8w9tnLOYSBP",
        "outputId": "2c973bda-73ac-49ad-ff79-28f505531f87"
      },
      "execution_count": null,
      "outputs": [
        {
          "output_type": "execute_result",
          "data": {
            "text/plain": [
              "(0.0, 1.0)"
            ]
          },
          "metadata": {},
          "execution_count": 33
        },
        {
          "output_type": "display_data",
          "data": {
            "text/plain": [
              "<Figure size 432x288 with 1 Axes>"
            ],
            "image/png": "[encoded data removed]"
          },
          "metadata": {
            "needs_background": "light"
          }
        }
      ]
    },
    {
      "cell_type": "code",
      "source": [
        "test_ds_new_fashion['label'][1]"
      ],
      "metadata": {
        "colab": {
          "base_uri": "https://localhost:8080/"
        },
        "id": "YHawCV1IH0OX",
        "outputId": "7d0cf277-9fc2-419c-d3a1-3a8db1442f03"
      },
      "execution_count": null,
      "outputs": [
        {
          "output_type": "execute_result",
          "data": {
            "text/plain": [
              "4.0"
            ]
          },
          "metadata": {},
          "execution_count": 34
        }
      ]
    },
    {
      "cell_type": "markdown",
      "source": [
        "99.1% probability! The model is absolutely certain that the image is some digit. This is a big disadvantage of neural networks. Hence we need to incorporate the concept of uncertainty to show us how the much is the model unceratain about its predictions. We use MC Dropout for the next question to show this. "
      ],
      "metadata": {
        "id": "xgp5QcMLhK-D"
      }
    },
    {
      "cell_type": "markdown",
      "source": [
        "## **Neural Network with MC Dropout**"
      ],
      "metadata": {
        "id": "3VC61_YlAnpW"
      }
    },
    {
      "cell_type": "code",
      "source": [
        "!pip install -q flax"
      ],
      "metadata": {
        "id": "v3eKPRcAAnpY"
      },
      "execution_count": null,
      "outputs": []
    },
    {
      "cell_type": "code",
      "execution_count": null,
      "metadata": {
        "id": "P5AoKvcXAnpZ"
      },
      "outputs": [],
      "source": [
        "#necessary imports\n",
        "import jax\n",
        "import jax.numpy as jnp                \n",
        "from flax import linen as nn           \n",
        "from flax.training import train_state  \n",
        "import numpy as np                    \n",
        "import optax                          \n",
        "import tensorflow_datasets as tfds    "
      ]
    },
    {
      "cell_type": "markdown",
      "source": [
        "Architecture: \n",
        "1. 32 neurons\n",
        "2. 64 neurons\n",
        "3. 256 neurons\n",
        "4. 10 output neurons for 10 classes"
      ],
      "metadata": {
        "id": "omqPjQIBAnpZ"
      }
    },
    {
      "cell_type": "markdown",
      "source": [
        "![image.png](data:image/png;base64,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)"
      ],
      "metadata": {
        "id": "HkRYftg3Anpa"
      }
    },
    {
      "cell_type": "code",
      "source": [
        "class CNN(nn.Module):\n",
        "  @nn.compact\n",
        "  def __call__(self, x, deterministic:bool = True):\n",
        "    x = nn.Conv(features=32, kernel_size=(3, 3))(x)\n",
        "    x = nn.relu(x)\n",
        "    x = nn.avg_pool(x, window_shape=(2, 2), strides=(2, 2))\n",
        "    x = nn.Conv(features=64, kernel_size=(3, 3))(x)\n",
        "    x = nn.relu(x)\n",
        "    x = nn.Dropout(0.3, deterministic = deterministic)(x)\n",
        "    x = nn.avg_pool(x, window_shape=(2, 2), strides=(2, 2))\n",
        "    x = x.reshape((x.shape[0], -1)) \n",
        "    x = nn.Dense(features=256)(x)\n",
        "    x = nn.relu(x)\n",
        "    x = nn.Dropout(0.3, deterministic = deterministic)(x)\n",
        "    x = nn.Dense(features=10)(x)\n",
        "    return x"
      ],
      "metadata": {
        "id": "HNzB_jgzAnpg"
      },
      "execution_count": null,
      "outputs": []
    },
    {
      "cell_type": "code",
      "source": [
        "#Loss function for multi-class classification = cross-entropy loss\n",
        "def cross_entropy_loss(*, logits, labels):\n",
        "  labels_onehot = jax.nn.one_hot(labels, num_classes=10) #one-hot encoding for cross entropy loss\n",
        "  return optax.softmax_cross_entropy(logits=logits, labels=labels_onehot).mean()"
      ],
      "metadata": {
        "id": "3I9wUdvaAnph"
      },
      "execution_count": null,
      "outputs": []
    },
    {
      "cell_type": "code",
      "source": [
        "#compute-metrics for returning the loss and accuracy of the model\n",
        "def compute_metrics(*, logits, labels):\n",
        "  loss = cross_entropy_loss(logits=logits, labels=labels)\n",
        "  accuracy = jnp.mean(jnp.argmax(logits, -1) == labels)\n",
        "  metrics = {\n",
        "      'loss': loss,\n",
        "      'accuracy': accuracy,\n",
        "  }\n",
        "  return metrics"
      ],
      "metadata": {
        "id": "8i_I-HfaAnpi"
      },
      "execution_count": null,
      "outputs": []
    },
    {
      "cell_type": "code",
      "source": [
        "def get_datasets(): #dataset-loader\n",
        "  ds_builder = tfds.builder('mnist')\n",
        "  ds_builder.download_and_prepare()\n",
        "  train_ds = tfds.as_numpy(ds_builder.as_dataset(split='train', batch_size=-1))\n",
        "  test_ds = tfds.as_numpy(ds_builder.as_dataset(split='test', batch_size=-1))\n",
        "  train_ds['image'] = jnp.float32(train_ds['image']) / 255.\n",
        "  test_ds['image'] = jnp.float32(test_ds['image']) / 255.\n",
        "  return train_ds, test_ds"
      ],
      "metadata": {
        "id": "Inm0l7hNAnpj"
      },
      "execution_count": null,
      "outputs": []
    },
    {
      "cell_type": "code",
      "source": [
        "def create_train_state(rng, learning_rate, momentum):\n",
        "  cnn = CNN() #model initialized\n",
        "  init_rng = {'params':rng, 'dropout': jax.random.PRNGKey(10)}\n",
        "  params = cnn.init(rng, jnp.ones([1, 28, 28, 1]))['params']\n",
        "  tx = optax.sgd(learning_rate, momentum) #Stochastic gradient descent for params\n",
        "  return train_state.TrainState.create(apply_fn=cnn.apply, params=params, tx=tx)"
      ],
      "metadata": {
        "id": "wHqJmKgaAnpj"
      },
      "execution_count": null,
      "outputs": []
    },
    {
      "cell_type": "code",
      "source": [
        "@jax.jit\n",
        "def train_step(state, batch):\n",
        "  def loss_fn(params, rngs): # training for a single step\n",
        "    logits = CNN().apply({'params': params}, batch['image'], deterministic = False, rngs = rngs)\n",
        "    loss = cross_entropy_loss(logits=logits, labels=batch['label'])\n",
        "    return loss, logits\n",
        "  grad_fn = jax.value_and_grad(loss_fn, has_aux=True)\n",
        "  (_, logits), grads = grad_fn(state.params, rngs={'dropout':jax.random.PRNGKey(0)})\n",
        "  state = state.apply_gradients(grads=grads)\n",
        "  metrics = compute_metrics(logits=logits, labels=batch['label'])\n",
        "  return state, metrics"
      ],
      "metadata": {
        "id": "0JdUhXMEAnpk"
      },
      "execution_count": null,
      "outputs": []
    },
    {
      "cell_type": "code",
      "source": [
        "@jax.jit #gives the loss and accuracy of the model on the test images\n",
        "def eval_step(params, batch):\n",
        "  logits = CNN().apply({'params': params}, batch['image'], deterministic = False, rngs={'dropout':jax.random.PRNGKey(0)})\n",
        "  return compute_metrics(logits=logits, labels=batch['label']), logits"
      ],
      "metadata": {
        "id": "86BRyEesAnpl"
      },
      "execution_count": null,
      "outputs": []
    },
    {
      "cell_type": "code",
      "source": [
        "def train_epoch(state, train_ds, batch_size, epoch, rng):# Train for a single epoch \n",
        "  train_size = len(train_ds['image'])\n",
        "  steps_per_epoch = train_size // batch_size\n",
        "  perms = jax.random.permutation(rng, train_size)\n",
        "  perms = perms[:steps_per_epoch * batch_size]  # in case of incomplete batch since no. of training points might not be a clear multiple of the batch size\n",
        "  perms = perms.reshape((steps_per_epoch, batch_size))\n",
        "  batch_metrics = []\n",
        "  for perm in perms:\n",
        "    batch = {k: v[perm, ...] for k, v in train_ds.items()}\n",
        "    state, metrics = train_step(state, batch)\n",
        "    batch_metrics.append(metrics)\n",
        "\n",
        "  batch_metrics_np = jax.device_get(batch_metrics)\n",
        "  epoch_metrics_np = {\n",
        "      k: np.mean([metrics[k] for metrics in batch_metrics_np])\n",
        "      for k in batch_metrics_np[0]}\n",
        "\n",
        "  print('train epoch: %d, loss: %.4f, accuracy: %.2f' % (epoch, epoch_metrics_np['loss'], epoch_metrics_np['accuracy'] * 100))\n",
        "  return state"
      ],
      "metadata": {
        "id": "qYEMglUwAnpm"
      },
      "execution_count": null,
      "outputs": []
    },
    {
      "cell_type": "code",
      "source": [
        "def eval_model(params, test_ds):\n",
        "  metrics, logits = eval_step(params, test_ds)\n",
        "  logits = jax.device_get(logits)\n",
        "  metrics = jax.device_get(metrics)\n",
        "  summary = jax.tree_util.tree_map(lambda x: x.item(), metrics)\n",
        "  return summary['loss'], summary['accuracy'], logits"
      ],
      "metadata": {
        "id": "oQvvdH3nAnpm"
      },
      "execution_count": null,
      "outputs": []
    },
    {
      "cell_type": "code",
      "source": [
        "train_ds, test_ds = get_datasets() #get the datasets"
      ],
      "metadata": {
        "colab": {
          "base_uri": "https://localhost:8080/"
        },
        "outputId": "de9d5182-71d2-4bc9-9f0c-1beae530befc",
        "id": "sNza06tVAnpn"
      },
      "execution_count": null,
      "outputs": [
        {
          "output_type": "stream",
          "name": "stderr",
          "text": [
            "WARNING:absl:No GPU/TPU found, falling back to CPU. (Set TF_CPP_MIN_LOG_LEVEL=0 and rerun for more info.)\n"
          ]
        }
      ]
    },
    {
      "cell_type": "code",
      "source": [
        "rng = jax.random.PRNGKey(0)\n",
        "rng, init_rng = jax.random.split(rng)"
      ],
      "metadata": {
        "id": "rEQdXv2LAnpo"
      },
      "execution_count": null,
      "outputs": []
    },
    {
      "cell_type": "code",
      "source": [
        "learning_rate = 0.1\n",
        "momentum = 0.9"
      ],
      "metadata": {
        "id": "jPBZu_rDAnpp"
      },
      "execution_count": null,
      "outputs": []
    },
    {
      "cell_type": "code",
      "source": [
        "state = create_train_state(init_rng, learning_rate, momentum)\n",
        "del init_rng  # Must not be used anymore."
      ],
      "metadata": {
        "id": "M8VdMxEAAnpt"
      },
      "execution_count": null,
      "outputs": []
    },
    {
      "cell_type": "code",
      "source": [
        "num_epochs = 10\n",
        "batch_size = 32"
      ],
      "metadata": {
        "id": "mhD9awsYAnpu"
      },
      "execution_count": null,
      "outputs": []
    },
    {
      "cell_type": "code",
      "source": [
        "import jax\n",
        "import jax.numpy as jnp"
      ],
      "metadata": {
        "id": "y4BAvncvAnpv"
      },
      "execution_count": null,
      "outputs": []
    },
    {
      "cell_type": "markdown",
      "source": [
        "We iterate through the original dataset which is in the form of a dictionary with the keys as images and labels respectively. Then by running a simple for loop, we add the images and the corresponding labels to the x and y arrays. Since we need 500 images of each class, we stop if the count of the images left to be added becomes zero. After the loop, 500 images of each class has been added to the two arrays for training and further evaluation. "
      ],
      "metadata": {
        "id": "7vMwLJEOAnpw"
      }
    },
    {
      "cell_type": "code",
      "source": [
        "count_train = [500]*10\n",
        "x_train_final = np.empty([5000,28,28,1])\n",
        "y_train_final = np.empty([5000,])\n",
        "j = 0\n",
        "for i in range(6000):\n",
        "  if(train_ds['label'][i]==0 and count_train[0]>0):\n",
        "    x_train_final[j] = train_ds['image'][j]\n",
        "    y_train_final[j] = train_ds['label'][j]\n",
        "    count_train[0]-=1\n",
        "    j+=1\n",
        "  if(train_ds['label'][i]==1 and count_train[1]>0):\n",
        "    x_train_final[j] = train_ds['image'][j]\n",
        "    y_train_final[j] = train_ds['label'][j]\n",
        "    count_train[1]-=1\n",
        "    j+=1\n",
        "  if(train_ds['label'][i]==2 and count_train[2]>0):\n",
        "    x_train_final[j] = train_ds['image'][j]\n",
        "    y_train_final[j] = train_ds['label'][j]\n",
        "    count_train[2]-=1\n",
        "    j+=1\n",
        "  if(train_ds['label'][i]==3 and count_train[3]>0):\n",
        "    x_train_final[j] = train_ds['image'][j]\n",
        "    y_train_final[j] = train_ds['label'][j]\n",
        "    count_train[3]-=1\n",
        "    j+=1\n",
        "  if(train_ds['label'][i]==4 and count_train[4]>0):\n",
        "    x_train_final[j] = train_ds['image'][j]\n",
        "    y_train_final[j] = train_ds['label'][j]\n",
        "    count_train[4]-=1\n",
        "    j+=1\n",
        "  if(train_ds['label'][i]==5 and count_train[5]>0):\n",
        "    x_train_final[j] = train_ds['image'][j]\n",
        "    y_train_final[j] = train_ds['label'][j]\n",
        "    count_train[5]-=1\n",
        "    j+=1\n",
        "  if(train_ds['label'][i]==6 and count_train[6]>0):\n",
        "    x_train_final[j] = train_ds['image'][j]\n",
        "    y_train_final[j] = train_ds['label'][j]\n",
        "    count_train[6]-=1\n",
        "    j+=1\n",
        "\n",
        "  if(train_ds['label'][i]==7 and count_train[7]>0):\n",
        "    x_train_final[j] = train_ds['image'][j]\n",
        "    y_train_final[j] = train_ds['label'][j]\n",
        "    count_train[7]-=1\n",
        "    j+=1\n",
        "\n",
        "  if(train_ds['label'][i]==8 and count_train[8]>0):\n",
        "    x_train_final[j] = train_ds['image'][j]\n",
        "    y_train_final[j] = train_ds['label'][j]\n",
        "    count_train[8]-=1\n",
        "    j+=1\n",
        "\n",
        "  if(train_ds['label'][i]==9 and count_train[9]>0):\n",
        "    x_train_final[j] = train_ds['image'][j]\n",
        "    y_train_final[j] = train_ds['label'][j]\n",
        "    count_train[9]-=1\n",
        "    j+=1"
      ],
      "metadata": {
        "id": "lffx9HdpAnpw"
      },
      "execution_count": null,
      "outputs": []
    },
    {
      "cell_type": "markdown",
      "source": [
        "After the loop, 100 images of each class has been added to the two arrays for testing and further evaluation. "
      ],
      "metadata": {
        "id": "HINvhqi2Anpx"
      }
    },
    {
      "cell_type": "code",
      "source": [
        "count_test = [100]*10\n",
        "x_test_final = np.empty([1000,28,28,1])\n",
        "y_test_final = np.empty([1000,])\n",
        "j = 0\n",
        "for i in range(1300):\n",
        "  if(test_ds['label'][i]==0 and count_test[0]>0):\n",
        "    x_test_final[j] = test_ds['image'][j]\n",
        "    y_test_final[j] = test_ds['label'][j]\n",
        "    count_test[0]-=1\n",
        "    j+=1\n",
        "  if(test_ds['label'][i]==1 and count_test[1]>0):\n",
        "    x_test_final[j] = test_ds['image'][j]\n",
        "    y_test_final[j] = test_ds['label'][j]\n",
        "    count_test[1]-=1\n",
        "    j+=1\n",
        "  if(test_ds['label'][i]==2 and count_test[2]>0):\n",
        "    x_test_final[j] = test_ds['image'][j]\n",
        "    y_test_final[j] = test_ds['label'][j]\n",
        "    count_test[2]-=1\n",
        "    j+=1\n",
        "  if(test_ds['label'][i]==3 and count_test[3]>0):\n",
        "    x_test_final[j] = test_ds['image'][j]\n",
        "    y_test_final[j] = test_ds['label'][j]\n",
        "    count_test[3]-=1\n",
        "    j+=1\n",
        "  if(test_ds['label'][i]==4 and count_test[4]>0):\n",
        "    x_test_final[j] = test_ds['image'][j]\n",
        "    y_test_final[j] = test_ds['label'][j]\n",
        "    count_test[4]-=1\n",
        "    j+=1\n",
        "  if(test_ds['label'][i]==5 and count_test[5]>0):\n",
        "    x_test_final[j] = test_ds['image'][j]\n",
        "    y_test_final[j] = test_ds['label'][j]\n",
        "    count_test[5]-=1\n",
        "    j+=1\n",
        "  if(test_ds['label'][i]==6 and count_test[6]>0):\n",
        "    x_test_final[j] = test_ds['image'][j]\n",
        "    y_test_final[j] = test_ds['label'][j]\n",
        "    count_test[6]-=1\n",
        "    j+=1\n",
        "\n",
        "  if(test_ds['label'][i]==7 and count_test[7]>0):\n",
        "    x_test_final[j] = test_ds['image'][j]\n",
        "    y_test_final[j] = test_ds['label'][j]\n",
        "    count_test[7]-=1\n",
        "    j+=1\n",
        "\n",
        "  if(test_ds['label'][i]==8 and count_test[8]>0):\n",
        "    x_test_final[j] = test_ds['image'][j]\n",
        "    y_test_final[j] = test_ds['label'][j]\n",
        "    count_test[8]-=1\n",
        "    j+=1\n",
        "\n",
        "  if(test_ds['label'][i]==9 and count_test[9]>0):\n",
        "    x_test_final[j] = test_ds['image'][j]\n",
        "    y_test_final[j] = test_ds['label'][j]\n",
        "    count_test[9]-=1\n",
        "    j+=1\n",
        "\n",
        "\n",
        "  "
      ],
      "metadata": {
        "id": "OxAgmG7SAnpy"
      },
      "execution_count": null,
      "outputs": []
    },
    {
      "cell_type": "markdown",
      "source": [
        "Making it in a dictionary format for the evaluation purposes"
      ],
      "metadata": {
        "id": "mSS_VyZQAnpz"
      }
    },
    {
      "cell_type": "code",
      "source": [
        "train_ds_new = {}\n",
        "train_ds_new['image'] = jnp.array(x_train_final)\n",
        "train_ds_new['label'] = y_train_final\n",
        "test_ds_new = {}\n",
        "test_ds_new['image'] = jnp.array(x_test_final)\n",
        "test_ds_new['label'] = y_test_final"
      ],
      "metadata": {
        "id": "bocrRLLhAnp0"
      },
      "execution_count": null,
      "outputs": []
    },
    {
      "cell_type": "code",
      "source": [
        "logits_tot = []\n",
        "for epoch in range(1, num_epochs + 1):\n",
        "  rng, input_rng = jax.random.split(rng)\n",
        "  state = train_epoch(state, train_ds_new, batch_size, epoch, input_rng)\n",
        "  test_loss, test_accuracy, logits = eval_model(state.params, test_ds_new)\n",
        "  logits_tot.append(logits)\n",
        "  print(' test epoch: %d, loss: %.2f, accuracy: %.2f' % (\n",
        "      epoch, test_loss, test_accuracy * 100))"
      ],
      "metadata": {
        "colab": {
          "base_uri": "https://localhost:8080/"
        },
        "outputId": "10c9f667-938a-4e4a-a9fc-1d47fe1e2a4b",
        "id": "7VqblgGdAnp1"
      },
      "execution_count": null,
      "outputs": [
        {
          "output_type": "stream",
          "name": "stdout",
          "text": [
            "train epoch: 1, loss: 0.6127, accuracy: 79.71\n",
            " test epoch: 1, loss: 0.37, accuracy: 89.00\n",
            "train epoch: 2, loss: 0.2125, accuracy: 94.01\n",
            " test epoch: 2, loss: 0.25, accuracy: 93.80\n",
            "train epoch: 3, loss: 0.1559, accuracy: 95.51\n",
            " test epoch: 3, loss: 0.27, accuracy: 92.50\n",
            "train epoch: 4, loss: 0.1685, accuracy: 95.23\n",
            " test epoch: 4, loss: 0.22, accuracy: 94.00\n",
            "train epoch: 5, loss: 0.0978, accuracy: 96.98\n",
            " test epoch: 5, loss: 0.17, accuracy: 94.90\n",
            "train epoch: 6, loss: 0.0954, accuracy: 96.85\n",
            " test epoch: 6, loss: 0.19, accuracy: 94.40\n",
            "train epoch: 7, loss: 0.0942, accuracy: 97.14\n",
            " test epoch: 7, loss: 0.17, accuracy: 95.40\n",
            "train epoch: 8, loss: 0.0648, accuracy: 97.98\n",
            " test epoch: 8, loss: 0.14, accuracy: 96.30\n",
            "train epoch: 9, loss: 0.0713, accuracy: 97.58\n",
            " test epoch: 9, loss: 0.18, accuracy: 95.50\n",
            "train epoch: 10, loss: 0.0464, accuracy: 98.52\n",
            " test epoch: 10, loss: 0.15, accuracy: 96.10\n"
          ]
        }
      ]
    },
    {
      "cell_type": "markdown",
      "source": [
        "We can see that in the first training epoch, the accuracy on train and test are good but not upto the level. As the training goes on, the accuracy improves for both the instances. Also the accuracy does not immediately go to 100% which might become a measure of overfitting if it did so. But here that is not the case."
      ],
      "metadata": {
        "id": "dfw-KqYXAnp2"
      }
    },
    {
      "cell_type": "code",
      "source": [
        "b = nn.softmax(logits_tot[9][-11])"
      ],
      "metadata": {
        "id": "q582OCbfAnp3"
      },
      "execution_count": null,
      "outputs": []
    },
    {
      "cell_type": "code",
      "source": [
        "digits = np.arange(10)\n",
        "import matplotlib.pyplot as plt\n",
        "plt.plot(digits, b)\n",
        "plt.ylim(0,1)"
      ],
      "metadata": {
        "colab": {
          "base_uri": "https://localhost:8080/",
          "height": 286
        },
        "id": "jy_owQTeV1y9",
        "outputId": "4ddde28b-8a21-4fae-9d61-6f7d3522b2da"
      },
      "execution_count": null,
      "outputs": [
        {
          "output_type": "execute_result",
          "data": {
            "text/plain": [
              "(0.0, 1.0)"
            ]
          },
          "metadata": {},
          "execution_count": 23
        },
        {
          "output_type": "display_data",
          "data": {
            "text/plain": [
              "<Figure size 432x288 with 1 Axes>"
            ],
            "image/png": "[encoded data removed]"
          },
          "metadata": {
            "needs_background": "light"
          }
        }
      ]
    },
    {
      "cell_type": "code",
      "source": [
        "def get_datasets_fashion(): # Load MNIST train and test datasets into memory\n",
        "  ds_builder = tfds.builder('fashion_mnist')\n",
        "  ds_builder.download_and_prepare()\n",
        "  train_ds = tfds.as_numpy(ds_builder.as_dataset(split='train', batch_size=-1))\n",
        "  test_ds = tfds.as_numpy(ds_builder.as_dataset(split='test', batch_size=-1))\n",
        "  train_ds['image'] = jnp.float32(train_ds['image']) / 255.\n",
        "  test_ds['image'] = jnp.float32(test_ds['image']) / 255.\n",
        "  return train_ds, test_ds"
      ],
      "metadata": {
        "id": "HpsX9NIOAnp4"
      },
      "execution_count": null,
      "outputs": []
    },
    {
      "cell_type": "code",
      "source": [
        "train_ds_fashion, test_ds_fashion = get_datasets_fashion()"
      ],
      "metadata": {
        "id": "HRYHal8ZAnp5"
      },
      "execution_count": null,
      "outputs": []
    },
    {
      "cell_type": "markdown",
      "source": [
        "After the loop, 100 images of each class has been added to the two arrays for testing and further evaluation. "
      ],
      "metadata": {
        "id": "85w_q699Anp6"
      }
    },
    {
      "cell_type": "code",
      "source": [
        "count_test_fashion = [100]*10\n",
        "x_test_final_fashion = np.empty([1000,28,28,1])\n",
        "y_test_final_fashion = np.empty([1000,])\n",
        "j = 0\n",
        "for i in range(1300):\n",
        "  if(test_ds_fashion['label'][i]==0 and count_test_fashion[0]>0):\n",
        "    x_test_final_fashion[j] = test_ds_fashion['image'][j]\n",
        "    y_test_final_fashion[j] = test_ds_fashion['label'][j]\n",
        "    count_test_fashion[0]-=1\n",
        "    j+=1\n",
        "  if(test_ds_fashion['label'][i]==1 and count_test_fashion[1]>0):\n",
        "    x_test_final_fashion[j] = test_ds_fashion['image'][j]\n",
        "    y_test_final_fashion[j] = test_ds_fashion['label'][j]\n",
        "    count_test_fashion[1]-=1\n",
        "    j+=1\n",
        "  if(test_ds_fashion['label'][i]==2 and count_test_fashion[2]>0):\n",
        "    x_test_final_fashion[j] = test_ds_fashion['image'][j]\n",
        "    y_test_final_fashion[j] = test_ds_fashion['label'][j]\n",
        "    count_test_fashion[2]-=1\n",
        "    j+=1\n",
        "  if(test_ds_fashion['label'][i]==3 and count_test_fashion[3]>0):\n",
        "    x_test_final_fashion[j] = test_ds_fashion['image'][j]\n",
        "    y_test_final_fashion[j] = test_ds_fashion['label'][j]\n",
        "    count_test_fashion[3]-=1\n",
        "    j+=1\n",
        "  if(test_ds_fashion['label'][i]==4 and count_test_fashion[4]>0):\n",
        "    x_test_final_fashion[j] = test_ds_fashion['image'][j]\n",
        "    y_test_final_fashion[j] = test_ds_fashion['label'][j]\n",
        "    count_test_fashion[4]-=1\n",
        "    j+=1\n",
        "  if(test_ds_fashion['label'][i]==5 and count_test_fashion[5]>0):\n",
        "    x_test_final_fashion[j] = test_ds_fashion['image'][j]\n",
        "    y_test_final_fashion[j] = test_ds_fashion['label'][j]\n",
        "    count_test_fashion[5]-=1\n",
        "    j+=1\n",
        "  if(test_ds_fashion['label'][i]==6 and count_test_fashion[6]>0):\n",
        "    x_test_final_fashion[j] = test_ds_fashion['image'][j]\n",
        "    y_test_final_fashion[j] = test_ds_fashion['label'][j]\n",
        "    count_test_fashion[6]-=1\n",
        "    j+=1\n",
        "\n",
        "  if(test_ds_fashion['label'][i]==7 and count_test_fashion[7]>0):\n",
        "    x_test_final_fashion[j] = test_ds_fashion['image'][j]\n",
        "    y_test_final_fashion[j] = test_ds_fashion['label'][j]\n",
        "    count_test_fashion[7]-=1\n",
        "    j+=1\n",
        "\n",
        "  if(test_ds_fashion['label'][i]==8 and count_test_fashion[8]>0):\n",
        "    x_test_final_fashion[j] = test_ds_fashion['image'][j]\n",
        "    y_test_final_fashion[j] = test_ds_fashion['label'][j]\n",
        "    count_test[8]-=1\n",
        "    j+=1\n",
        "\n",
        "  if(test_ds_fashion['label'][i]==9 and count_test[9]>0):\n",
        "    x_test_final_fashion[j] = test_ds_fashion['image'][j]\n",
        "    y_test_final_fashion[j] = test_ds_fashion['label'][j]\n",
        "    count_test[9]-=1\n",
        "    j+=1\n",
        "\n",
        "\n",
        "  "
      ],
      "metadata": {
        "id": "bpjeu0IfAnp6"
      },
      "execution_count": null,
      "outputs": []
    },
    {
      "cell_type": "code",
      "source": [
        "test_ds_new_fashion = {}\n",
        "test_ds_new_fashion['image'] = jnp.array(x_test_final_fashion)\n",
        "test_ds_new_fashion['label'] = y_test_final_fashion"
      ],
      "metadata": {
        "id": "xHHntyMgAnp8"
      },
      "execution_count": null,
      "outputs": []
    },
    {
      "cell_type": "code",
      "source": [
        "train_ds_new['image'].shape"
      ],
      "metadata": {
        "colab": {
          "base_uri": "https://localhost:8080/"
        },
        "outputId": "226915b9-36e2-46a7-c9f7-99bab4eb461d",
        "id": "7h5OZZ4WAnp8"
      },
      "execution_count": null,
      "outputs": [
        {
          "output_type": "execute_result",
          "data": {
            "text/plain": [
              "(5000, 28, 28, 1)"
            ]
          },
          "metadata": {},
          "execution_count": 28
        }
      ]
    },
    {
      "cell_type": "code",
      "source": [
        "test_ds_new_fashion['label'].shape"
      ],
      "metadata": {
        "colab": {
          "base_uri": "https://localhost:8080/"
        },
        "outputId": "3303d994-68a9-47c4-f005-06666abc0ac2",
        "id": "l2r5aSlDAnp9"
      },
      "execution_count": null,
      "outputs": [
        {
          "output_type": "execute_result",
          "data": {
            "text/plain": [
              "(1000,)"
            ]
          },
          "metadata": {},
          "execution_count": 29
        }
      ]
    },
    {
      "cell_type": "code",
      "source": [
        "logits = CNN().apply({'params': state.params}, test_ds_new_fashion['image'], deterministic = False, rngs={'dropout':jax.random.PRNGKey(0)})\n",
        "logits = nn.softmax(logits)"
      ],
      "metadata": {
        "id": "buAhHqIIAnp-"
      },
      "execution_count": null,
      "outputs": []
    },
    {
      "cell_type": "code",
      "source": [
        "import matplotlib.pyplot as plt\n",
        "plt.imshow(test_ds_new_fashion['image'][1].reshape(28,28))"
      ],
      "metadata": {
        "colab": {
          "base_uri": "https://localhost:8080/",
          "height": 282
        },
        "outputId": "c96770a6-2cf1-4b6b-9524-3ea978f57b1f",
        "id": "wkuFt4vCAnp_"
      },
      "execution_count": null,
      "outputs": [
        {
          "output_type": "execute_result",
          "data": {
            "text/plain": [
              "<matplotlib.image.AxesImage at 0x7f65ee417b10>"
            ]
          },
          "metadata": {},
          "execution_count": 31
        },
        {
          "output_type": "display_data",
          "data": {
            "text/plain": [
              "<Figure size 432x288 with 1 Axes>"
            ],
            "image/png": "[encoded data removed]"
          },
          "metadata": {
            "needs_background": "light"
          }
        }
      ]
    },
    {
      "cell_type": "code",
      "source": [
        "b = logits[1]"
      ],
      "metadata": {
        "id": "eO6fLz-bAnqA"
      },
      "execution_count": null,
      "outputs": []
    },
    {
      "cell_type": "code",
      "source": [
        "digits = np.arange(10)\n",
        "import matplotlib.pyplot as plt\n",
        "plt.plot(digits, b)\n",
        "plt.ylim(0,1)"
      ],
      "metadata": {
        "id": "mi4FLEkGYX0H",
        "outputId": "bc04312b-76be-47f2-eadf-3a3d7771bc36",
        "colab": {
          "base_uri": "https://localhost:8080/",
          "height": 286
        }
      },
      "execution_count": null,
      "outputs": [
        {
          "output_type": "execute_result",
          "data": {
            "text/plain": [
              "(0.0, 1.0)"
            ]
          },
          "metadata": {},
          "execution_count": 33
        },
        {
          "output_type": "display_data",
          "data": {
            "text/plain": [
              "<Figure size 432x288 with 1 Axes>"
            ],
            "image/png": "[encoded data removed]"
          },
          "metadata": {
            "needs_background": "light"
          }
        }
      ]
    },
    {
      "cell_type": "code",
      "source": [
        "b"
      ],
      "metadata": {
        "colab": {
          "base_uri": "https://localhost:8080/"
        },
        "id": "6L7K4eqIx7NP",
        "outputId": "a8074457-f055-4dad-ba7f-d424c934aeb7"
      },
      "execution_count": null,
      "outputs": [
        {
          "output_type": "execute_result",
          "data": {
            "text/plain": [
              "DeviceArray([0.50489163, 0.03711339, 0.04582743, 0.08685064, 0.00386149,\n",
              "             0.0201791 , 0.01996568, 0.00632725, 0.1765369 , 0.09844656],            dtype=float32)"
            ]
          },
          "metadata": {},
          "execution_count": 35
        }
      ]
    },
    {
      "cell_type": "code",
      "source": [
        "test_ds_new_fashion['label'][1]"
      ],
      "metadata": {
        "colab": {
          "base_uri": "https://localhost:8080/"
        },
        "outputId": "c1f6b46b-3ab0-4436-a8d5-7b4dd4a466a4",
        "id": "jDdDtnHIAnqE"
      },
      "execution_count": null,
      "outputs": [
        {
          "output_type": "execute_result",
          "data": {
            "text/plain": [
              "4.0"
            ]
          },
          "metadata": {},
          "execution_count": 34
        }
      ]
    },
    {
      "cell_type": "markdown",
      "source": [
        "50% probability! The model is now uncertain about its prediction. This is a big advantage of MC Dropout. Here we have incorporated the concept of uncertainty to show us how the much is the model unceratain about its predictions. Although the prediction is wrong, 50% probability shows that it is uncertain. "
      ],
      "metadata": {
        "id": "in7nnSAmx5uO"
      }
    },
    {
      "cell_type": "markdown",
      "source": [
        "References:\n",
        "1. https://flax.readthedocs.io/en/latest/getting_started.html\n",
        "2. http://yann.lecun.com/exdb/mnist/"
      ],
      "metadata": {
        "id": "w-lnGTAmAnqG"
      }
    }
  ]
}